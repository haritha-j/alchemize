{
 "cells": [
  {
   "cell_type": "markdown",
   "metadata": {
    "papermill": {
     "duration": 0.042481,
     "end_time": "2021-06-04T13:07:04.763271",
     "exception": false,
     "start_time": "2021-06-04T13:07:04.720790",
     "status": "completed"
    },
    "tags": []
   },
   "source": [
    "# Lesson 6 - Working with files\n",
    "\n",
    "In this lesson we'll learn how to work with files. But before that, lets learn a little bit more about strings."
   ]
  },
  {
   "cell_type": "markdown",
   "metadata": {
    "papermill": {
     "duration": 0.039222,
     "end_time": "2021-06-04T13:07:04.841814",
     "exception": false,
     "start_time": "2021-06-04T13:07:04.802592",
     "status": "completed"
    },
    "tags": []
   },
   "source": [
    "## Strings"
   ]
  },
  {
   "cell_type": "markdown",
   "metadata": {
    "papermill": {
     "duration": 0.03921,
     "end_time": "2021-06-04T13:07:04.920002",
     "exception": false,
     "start_time": "2021-06-04T13:07:04.880792",
     "status": "completed"
    },
    "tags": []
   },
   "source": [
    "One place where the Python language really shines is in the manipulation of strings.\n",
    "This section will cover some of Python's built-in string methods and formatting operations.\n",
    "\n",
    "Such string manipulation patterns come up often in the context of data science work.\n",
    "\n",
    "## String syntax\n",
    "\n",
    "You've already seen plenty of strings in examples during the previous lessons, but just to recap, strings in Python can be defined using either single or double quotations. They are functionally equivalent."
   ]
  },
  {
   "cell_type": "code",
   "execution_count": null,
   "metadata": {
    "execution": {
     "iopub.execute_input": "2021-06-04T13:07:05.002494Z",
     "iopub.status.busy": "2021-06-04T13:07:05.001350Z",
     "iopub.status.idle": "2021-06-04T13:07:05.008928Z",
     "shell.execute_reply": "2021-06-04T13:07:05.009421Z"
    },
    "papermill": {
     "duration": 0.050882,
     "end_time": "2021-06-04T13:07:05.009707",
     "exception": false,
     "start_time": "2021-06-04T13:07:04.958825",
     "status": "completed"
    },
    "tags": []
   },
   "outputs": [],
   "source": [
    "x = 'Pluto is a planet'\n",
    "y = \"Pluto is a planet\"\n",
    "x == y"
   ]
  },
  {
   "cell_type": "markdown",
   "metadata": {
    "papermill": {
     "duration": 0.039368,
     "end_time": "2021-06-04T13:07:05.089224",
     "exception": false,
     "start_time": "2021-06-04T13:07:05.049856",
     "status": "completed"
    },
    "tags": []
   },
   "source": [
    "Double quotes are convenient if your string contains a single quote character (e.g. representing an apostrophe).\n",
    "\n",
    "Similarly, it's easy to create a string that contains double-quotes if you wrap it in single quotes:"
   ]
  },
  {
   "cell_type": "code",
   "execution_count": null,
   "metadata": {
    "execution": {
     "iopub.execute_input": "2021-06-04T13:07:05.175437Z",
     "iopub.status.busy": "2021-06-04T13:07:05.174615Z",
     "iopub.status.idle": "2021-06-04T13:07:05.177801Z",
     "shell.execute_reply": "2021-06-04T13:07:05.178300Z"
    },
    "papermill": {
     "duration": 0.048953,
     "end_time": "2021-06-04T13:07:05.178476",
     "exception": false,
     "start_time": "2021-06-04T13:07:05.129523",
     "status": "completed"
    },
    "tags": []
   },
   "outputs": [],
   "source": [
    "print(\"Pluto's a planet!\")\n",
    "print('My dog is named \"Pluto\"')"
   ]
  },
  {
   "cell_type": "markdown",
   "metadata": {
    "papermill": {
     "duration": 0.039971,
     "end_time": "2021-06-04T13:07:05.258962",
     "exception": false,
     "start_time": "2021-06-04T13:07:05.218991",
     "status": "completed"
    },
    "tags": []
   },
   "source": [
    "If we try to put a single quote character inside a single-quoted string, Python gets confused:"
   ]
  },
  {
   "cell_type": "markdown",
   "metadata": {
    "papermill": {
     "duration": 0.041361,
     "end_time": "2021-06-04T13:07:05.694200",
     "exception": false,
     "start_time": "2021-06-04T13:07:05.652839",
     "status": "completed"
    },
    "tags": []
   },
   "source": [
    " `\\n`, represents the *newline character*. It causes Python to start a new line."
   ]
  },
  {
   "cell_type": "code",
   "execution_count": null,
   "metadata": {
    "execution": {
     "iopub.execute_input": "2021-06-04T13:07:05.784381Z",
     "iopub.status.busy": "2021-06-04T13:07:05.783383Z",
     "iopub.status.idle": "2021-06-04T13:07:05.786690Z",
     "shell.execute_reply": "2021-06-04T13:07:05.787209Z"
    },
    "papermill": {
     "duration": 0.050948,
     "end_time": "2021-06-04T13:07:05.787402",
     "exception": false,
     "start_time": "2021-06-04T13:07:05.736454",
     "status": "completed"
    },
    "tags": []
   },
   "outputs": [],
   "source": [
    "hello = \"hello\\nworld\"\n",
    "print(hello)"
   ]
  },
  {
   "cell_type": "markdown",
   "metadata": {
    "papermill": {
     "duration": 0.042132,
     "end_time": "2021-06-04T13:07:05.871670",
     "exception": false,
     "start_time": "2021-06-04T13:07:05.829538",
     "status": "completed"
    },
    "tags": []
   },
   "source": [
    "In addition, Python's triple quote syntax for strings lets us include newlines literally (i.e. by just hitting 'Enter' on our keyboard, rather than using the special '\\n' sequence). We've already seen this in the docstrings we use to document our functions, but we can use them anywhere we want to define a string."
   ]
  },
  {
   "cell_type": "code",
   "execution_count": null,
   "metadata": {
    "execution": {
     "iopub.execute_input": "2021-06-04T13:07:05.962754Z",
     "iopub.status.busy": "2021-06-04T13:07:05.961767Z",
     "iopub.status.idle": "2021-06-04T13:07:05.966577Z",
     "shell.execute_reply": "2021-06-04T13:07:05.965937Z"
    },
    "papermill": {
     "duration": 0.052782,
     "end_time": "2021-06-04T13:07:05.966715",
     "exception": false,
     "start_time": "2021-06-04T13:07:05.913933",
     "status": "completed"
    },
    "tags": []
   },
   "outputs": [],
   "source": [
    "triplequoted_hello = \"\"\"hello\n",
    "world\"\"\"\n",
    "print(triplequoted_hello)\n",
    "triplequoted_hello == hello"
   ]
  },
  {
   "cell_type": "markdown",
   "metadata": {
    "papermill": {
     "duration": 0.043056,
     "end_time": "2021-06-04T13:07:06.052250",
     "exception": false,
     "start_time": "2021-06-04T13:07:06.009194",
     "status": "completed"
    },
    "tags": []
   },
   "source": [
    "The `print()` function automatically adds a newline character unless we specify a value for the keyword argument `end` other than the default value of `'\\n'`:"
   ]
  },
  {
   "cell_type": "code",
   "execution_count": null,
   "metadata": {
    "execution": {
     "iopub.execute_input": "2021-06-04T13:07:06.141625Z",
     "iopub.status.busy": "2021-06-04T13:07:06.140940Z",
     "iopub.status.idle": "2021-06-04T13:07:06.147053Z",
     "shell.execute_reply": "2021-06-04T13:07:06.146573Z"
    },
    "papermill": {
     "duration": 0.051614,
     "end_time": "2021-06-04T13:07:06.147213",
     "exception": false,
     "start_time": "2021-06-04T13:07:06.095599",
     "status": "completed"
    },
    "tags": []
   },
   "outputs": [],
   "source": [
    "print(\"hello\")\n",
    "print(\"world\")\n",
    "print(\"hello\", end='')\n",
    "print(\"pluto\", end='')"
   ]
  },
  {
   "cell_type": "markdown",
   "metadata": {
    "papermill": {
     "duration": 0.042513,
     "end_time": "2021-06-04T13:07:06.233013",
     "exception": false,
     "start_time": "2021-06-04T13:07:06.190500",
     "status": "completed"
    },
    "tags": []
   },
   "source": [
    "## Strings are sequences\n",
    "\n",
    "Strings can be thought of as sequences of characters. Almost everything we've seen that we can do to a list, we can also do to a string."
   ]
  },
  {
   "cell_type": "code",
   "execution_count": null,
   "metadata": {
    "execution": {
     "iopub.execute_input": "2021-06-04T13:07:06.342135Z",
     "iopub.status.busy": "2021-06-04T13:07:06.340835Z",
     "iopub.status.idle": "2021-06-04T13:07:06.347831Z",
     "shell.execute_reply": "2021-06-04T13:07:06.348570Z"
    },
    "papermill": {
     "duration": 0.070048,
     "end_time": "2021-06-04T13:07:06.348810",
     "exception": false,
     "start_time": "2021-06-04T13:07:06.278762",
     "status": "completed"
    },
    "tags": []
   },
   "outputs": [],
   "source": [
    "# Indexing\n",
    "planet = 'Pluto'\n",
    "planet[0]"
   ]
  },
  {
   "cell_type": "code",
   "execution_count": null,
   "metadata": {
    "execution": {
     "iopub.execute_input": "2021-06-04T13:07:06.453791Z",
     "iopub.status.busy": "2021-06-04T13:07:06.452713Z",
     "iopub.status.idle": "2021-06-04T13:07:06.458612Z",
     "shell.execute_reply": "2021-06-04T13:07:06.459120Z"
    },
    "papermill": {
     "duration": 0.054563,
     "end_time": "2021-06-04T13:07:06.459295",
     "exception": false,
     "start_time": "2021-06-04T13:07:06.404732",
     "status": "completed"
    },
    "tags": []
   },
   "outputs": [],
   "source": [
    "# Slicing\n",
    "planet[-3:]"
   ]
  },
  {
   "cell_type": "code",
   "execution_count": null,
   "metadata": {
    "execution": {
     "iopub.execute_input": "2021-06-04T13:07:06.554317Z",
     "iopub.status.busy": "2021-06-04T13:07:06.553281Z",
     "iopub.status.idle": "2021-06-04T13:07:06.558423Z",
     "shell.execute_reply": "2021-06-04T13:07:06.558866Z"
    },
    "papermill": {
     "duration": 0.055511,
     "end_time": "2021-06-04T13:07:06.559038",
     "exception": false,
     "start_time": "2021-06-04T13:07:06.503527",
     "status": "completed"
    },
    "tags": []
   },
   "outputs": [],
   "source": [
    "# How long is this string?\n",
    "len(planet)"
   ]
  },
  {
   "cell_type": "code",
   "execution_count": null,
   "metadata": {
    "execution": {
     "iopub.execute_input": "2021-06-04T13:07:06.651775Z",
     "iopub.status.busy": "2021-06-04T13:07:06.650787Z",
     "iopub.status.idle": "2021-06-04T13:07:06.656322Z",
     "shell.execute_reply": "2021-06-04T13:07:06.656759Z"
    },
    "papermill": {
     "duration": 0.053488,
     "end_time": "2021-06-04T13:07:06.656933",
     "exception": false,
     "start_time": "2021-06-04T13:07:06.603445",
     "status": "completed"
    },
    "tags": []
   },
   "outputs": [],
   "source": [
    "# Yes, we can even loop over them\n",
    "[char+'! ' for char in planet]"
   ]
  },
  {
   "cell_type": "markdown",
   "metadata": {
    "papermill": {
     "duration": 0.044818,
     "end_time": "2021-06-04T13:07:06.746385",
     "exception": false,
     "start_time": "2021-06-04T13:07:06.701567",
     "status": "completed"
    },
    "tags": []
   },
   "source": [
    "But a major way in which they differ from lists is that they are *immutable*. We can't modify them."
   ]
  },
  {
   "cell_type": "code",
   "execution_count": null,
   "metadata": {
    "execution": {
     "iopub.execute_input": "2021-06-04T13:07:06.866723Z",
     "iopub.status.busy": "2021-06-04T13:07:06.865738Z",
     "iopub.status.idle": "2021-06-04T13:07:06.919668Z",
     "shell.execute_reply": "2021-06-04T13:07:06.920419Z"
    },
    "papermill": {
     "duration": 0.113934,
     "end_time": "2021-06-04T13:07:06.920634",
     "exception": false,
     "start_time": "2021-06-04T13:07:06.806700",
     "status": "completed"
    },
    "tags": [
     "raises-exception"
    ]
   },
   "outputs": [],
   "source": [
    "planet[0] = 'B'\n",
    "# planet.append doesn't work either"
   ]
  },
  {
   "cell_type": "markdown",
   "metadata": {
    "papermill": {
     "duration": 0.047378,
     "end_time": "2021-06-04T13:07:07.015019",
     "exception": false,
     "start_time": "2021-06-04T13:07:06.967641",
     "status": "completed"
    },
    "tags": []
   },
   "source": [
    "## String methods\n",
    "\n",
    "Like `list`, the type `str` has lots of very useful methods. I'll show just a few examples here."
   ]
  },
  {
   "cell_type": "code",
   "execution_count": null,
   "metadata": {
    "execution": {
     "iopub.execute_input": "2021-06-04T13:07:07.121481Z",
     "iopub.status.busy": "2021-06-04T13:07:07.120482Z",
     "iopub.status.idle": "2021-06-04T13:07:07.127457Z",
     "shell.execute_reply": "2021-06-04T13:07:07.126874Z"
    },
    "papermill": {
     "duration": 0.059392,
     "end_time": "2021-06-04T13:07:07.127617",
     "exception": false,
     "start_time": "2021-06-04T13:07:07.068225",
     "status": "completed"
    },
    "tags": []
   },
   "outputs": [],
   "source": [
    "# ALL CAPS\n",
    "claim = \"Pluto is a planet!\"\n",
    "claim.upper()"
   ]
  },
  {
   "cell_type": "code",
   "execution_count": null,
   "metadata": {
    "execution": {
     "iopub.execute_input": "2021-06-04T13:07:07.228229Z",
     "iopub.status.busy": "2021-06-04T13:07:07.227220Z",
     "iopub.status.idle": "2021-06-04T13:07:07.232619Z",
     "shell.execute_reply": "2021-06-04T13:07:07.231944Z"
    },
    "papermill": {
     "duration": 0.057723,
     "end_time": "2021-06-04T13:07:07.232765",
     "exception": false,
     "start_time": "2021-06-04T13:07:07.175042",
     "status": "completed"
    },
    "tags": []
   },
   "outputs": [],
   "source": [
    "# all lowercase\n",
    "claim.lower()"
   ]
  },
  {
   "cell_type": "markdown",
   "metadata": {
    "papermill": {
     "duration": 0.052058,
     "end_time": "2021-06-04T13:07:09.585851",
     "exception": false,
     "start_time": "2021-06-04T13:07:09.533793",
     "status": "completed"
    },
    "tags": []
   },
   "source": [
    "# Files\n",
    "\n",
    "Python can help you read and write to files."
   ]
  },
  {
   "cell_type": "code",
   "execution_count": null,
   "metadata": {
    "execution": {
     "iopub.execute_input": "2021-06-04T13:07:09.695517Z",
     "iopub.status.busy": "2021-06-04T13:07:09.694701Z",
     "iopub.status.idle": "2021-06-04T13:07:09.698049Z",
     "shell.execute_reply": "2021-06-04T13:07:09.697455Z"
    },
    "papermill": {
     "duration": 0.060443,
     "end_time": "2021-06-04T13:07:09.698222",
     "exception": false,
     "start_time": "2021-06-04T13:07:09.637779",
     "status": "completed"
    },
    "tags": []
   },
   "outputs": [],
   "source": [
    "# this will download a small file for us to work with.\n",
    "!wget https://raw.githubusercontent.com/haritha-j/alchemize/main/queen.txt"
   ]
  },
  {
   "cell_type": "code",
   "execution_count": null,
   "metadata": {},
   "outputs": [],
   "source": [
    "#lets open the file and print out its contents, one line at a time\n",
    "file_name = \"queen.txt\"\n",
    "f = open(file_name, 'r')\n",
    "\n",
    "for line in f.readlines():\n",
    "    print(line)\n",
    "\n",
    "#don't forget to close the file\n",
    "f.close()"
   ]
  },
  {
   "cell_type": "markdown",
   "metadata": {
    "papermill": {
     "duration": 0.055018,
     "end_time": "2021-06-04T13:07:09.806993",
     "exception": false,
     "start_time": "2021-06-04T13:07:09.751975",
     "status": "completed"
    },
    "tags": []
   },
   "source": [
    "We have passed `'r'` as the second parameter to the `open` function. This means we open the file for reading. If we want to open a file for writing, we can use `'w'` instead. "
   ]
  },
  {
   "cell_type": "code",
   "execution_count": null,
   "metadata": {
    "execution": {
     "iopub.execute_input": "2021-06-04T13:07:09.918844Z",
     "iopub.status.busy": "2021-06-04T13:07:09.917905Z",
     "iopub.status.idle": "2021-06-04T13:07:09.924554Z",
     "shell.execute_reply": "2021-06-04T13:07:09.923901Z"
    },
    "papermill": {
     "duration": 0.06168,
     "end_time": "2021-06-04T13:07:09.924700",
     "exception": false,
     "start_time": "2021-06-04T13:07:09.863020",
     "status": "completed"
    },
    "tags": []
   },
   "outputs": [],
   "source": [
    "#lets open a second file and write to it.\n",
    "input_file_name = \"queen.txt\"\n",
    "output_file_name = \"output.txt\"\n",
    "input_file = open(input_file_name, 'r')\n",
    "output_file = open(output_file_name, 'w')\n",
    "\n",
    "for line in input_file.readlines():\n",
    "    output_file.write(line.upper())\n",
    "\n",
    "#don't forget to close the files\n",
    "input_file.close()\n",
    "output_file.close()"
   ]
  },
  {
   "cell_type": "markdown",
   "metadata": {
    "papermill": {
     "duration": 0.059408,
     "end_time": "2021-06-04T13:07:11.990598",
     "exception": false,
     "start_time": "2021-06-04T13:07:11.931190",
     "status": "completed"
    },
    "tags": []
   },
   "source": [
    "# Your Turn"
   ]
  }
 ],
 "metadata": {
  "anaconda-cloud": {},
  "kernelspec": {
   "display_name": "Python 3",
   "language": "python",
   "name": "python3"
  },
  "language_info": {
   "codemirror_mode": {
    "name": "ipython",
    "version": 3
   },
   "file_extension": ".py",
   "mimetype": "text/x-python",
   "name": "python",
   "nbconvert_exporter": "python",
   "pygments_lexer": "ipython3",
   "version": "3.8.3"
  },
  "learntools_metadata": {
   "lesson_index": 5,
   "type": "tutorial"
  },
  "papermill": {
   "default_parameters": {},
   "duration": 14.84335,
   "end_time": "2021-06-04T13:07:12.772887",
   "environment_variables": {},
   "exception": null,
   "input_path": "__notebook__.ipynb",
   "output_path": "__notebook__.ipynb",
   "parameters": {},
   "start_time": "2021-06-04T13:06:57.929537",
   "version": "2.3.2"
  }
 },
 "nbformat": 4,
 "nbformat_minor": 5
}
