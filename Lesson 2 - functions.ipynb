{
 "cells": [
  {
   "cell_type": "markdown",
   "metadata": {},
   "source": [
    "# Lesson 2 - functions"
   ]
  },
  {
   "cell_type": "markdown",
   "metadata": {
    "papermill": {
     "duration": 0.016689,
     "end_time": "2021-06-04T13:07:01.219919",
     "exception": false,
     "start_time": "2021-06-04T13:07:01.203230",
     "status": "completed"
    },
    "tags": []
   },
   "source": [
    "You've already seen and used functions such as `print`. But Python has many more functions, and defining your own functions is a big part of python programming.\n",
    "\n",
    "In this lesson, you will learn more about using and defining functions."
   ]
  },
  {
   "cell_type": "markdown",
   "metadata": {
    "papermill": {
     "duration": 0.014473,
     "end_time": "2021-06-04T13:07:01.249807",
     "exception": false,
     "start_time": "2021-06-04T13:07:01.235334",
     "status": "completed"
    },
    "tags": []
   },
   "source": [
    "# Getting Help\n",
    "\n",
    "\n",
    "The `help()` function is possibly the most important Python function you can learn. If you can remember how to use `help()`, you hold the key to understanding most other functions.\n",
    "\n",
    "Here is an example:"
   ]
  },
  {
   "cell_type": "code",
   "execution_count": null,
   "metadata": {
    "execution": {
     "iopub.execute_input": "2021-06-04T13:07:01.286608Z",
     "iopub.status.busy": "2021-06-04T13:07:01.285930Z",
     "iopub.status.idle": "2021-06-04T13:07:01.290480Z",
     "shell.execute_reply": "2021-06-04T13:07:01.289814Z"
    },
    "papermill": {
     "duration": 0.02541,
     "end_time": "2021-06-04T13:07:01.290622",
     "exception": false,
     "start_time": "2021-06-04T13:07:01.265212",
     "status": "completed"
    },
    "tags": []
   },
   "outputs": [],
   "source": [
    "help(round)"
   ]
  },
  {
   "cell_type": "markdown",
   "metadata": {
    "papermill": {
     "duration": 0.016872,
     "end_time": "2021-06-04T13:07:01.323836",
     "exception": false,
     "start_time": "2021-06-04T13:07:01.306964",
     "status": "completed"
    },
    "tags": []
   },
   "source": [
    "`help()` displays two things:\n",
    "\n",
    "1. the header of that function `round(number, ndigits=None)`. In this case, this tells us that `round()` takes an argument we can describe as `number`. Additionally, we can optionally give a separate argument which could be described as `ndigits`.\n",
    "2. A brief English description of what the function does. "
   ]
  },
  {
   "cell_type": "code",
   "execution_count": null,
   "metadata": {
    "execution": {
     "iopub.execute_input": "2021-06-04T13:07:01.482910Z",
     "iopub.status.busy": "2021-06-04T13:07:01.482294Z",
     "iopub.status.idle": "2021-06-04T13:07:01.488987Z",
     "shell.execute_reply": "2021-06-04T13:07:01.488433Z"
    },
    "papermill": {
     "duration": 0.028274,
     "end_time": "2021-06-04T13:07:01.489148",
     "exception": false,
     "start_time": "2021-06-04T13:07:01.460874",
     "status": "completed"
    },
    "tags": []
   },
   "outputs": [],
   "source": [
    "help(print)"
   ]
  },
  {
   "cell_type": "markdown",
   "metadata": {
    "papermill": {
     "duration": 0.016796,
     "end_time": "2021-06-04T13:07:01.523658",
     "exception": false,
     "start_time": "2021-06-04T13:07:01.506862",
     "status": "completed"
    },
    "tags": []
   },
   "source": [
    "If you were looking for it, you might learn that print can take an argument called `sep`, and that this describes what we put between all the other arguments when we print them."
   ]
  },
  {
   "cell_type": "markdown",
   "metadata": {
    "papermill": {
     "duration": 0.016637,
     "end_time": "2021-06-04T13:07:01.557705",
     "exception": false,
     "start_time": "2021-06-04T13:07:01.541068",
     "status": "completed"
    },
    "tags": []
   },
   "source": [
    "## Defining functions\n",
    "\n",
    "Builtin functions are great, but we can only get so far with them before we need to start defining our own functions. Below is a simple example."
   ]
  },
  {
   "cell_type": "code",
   "execution_count": null,
   "metadata": {
    "execution": {
     "iopub.execute_input": "2021-06-04T13:07:01.593817Z",
     "iopub.status.busy": "2021-06-04T13:07:01.593252Z",
     "iopub.status.idle": "2021-06-04T13:07:01.597251Z",
     "shell.execute_reply": "2021-06-04T13:07:01.597682Z"
    },
    "papermill": {
     "duration": 0.02383,
     "end_time": "2021-06-04T13:07:01.597838",
     "exception": false,
     "start_time": "2021-06-04T13:07:01.574008",
     "status": "completed"
    },
    "tags": []
   },
   "outputs": [],
   "source": [
    "def least_difference(a, b, c):\n",
    "    diff1 = abs(a - b)\n",
    "    diff2 = abs(b - c)\n",
    "    diff3 = abs(a - c)\n",
    "    return min(diff1, diff2, diff3)"
   ]
  },
  {
   "cell_type": "markdown",
   "metadata": {
    "papermill": {
     "duration": 0.016019,
     "end_time": "2021-06-04T13:07:01.630209",
     "exception": false,
     "start_time": "2021-06-04T13:07:01.614190",
     "status": "completed"
    },
    "tags": []
   },
   "source": [
    "This creates a function called `least_difference`, which takes three arguments, `a`, `b`, and `c`.\n",
    "\n",
    "Functions start with a header introduced by the `def` keyword. The indented block of code following the `:` is run when the function is called. Note the indentation!\n",
    "\n",
    "`return` is another keyword uniquely associated with functions. When Python encounters a `return` statement, it exits the function immediately, and passes the value on the right hand side to the calling context.\n",
    "\n",
    "Is it clear what `least_difference()` does from the source code? If we're not sure, we can always try it out on a few examples:"
   ]
  },
  {
   "cell_type": "code",
   "execution_count": null,
   "metadata": {
    "execution": {
     "iopub.execute_input": "2021-06-04T13:07:01.665624Z",
     "iopub.status.busy": "2021-06-04T13:07:01.665044Z",
     "iopub.status.idle": "2021-06-04T13:07:01.670831Z",
     "shell.execute_reply": "2021-06-04T13:07:01.671282Z"
    },
    "papermill": {
     "duration": 0.024717,
     "end_time": "2021-06-04T13:07:01.671451",
     "exception": false,
     "start_time": "2021-06-04T13:07:01.646734",
     "status": "completed"
    },
    "tags": []
   },
   "outputs": [],
   "source": [
    "print(\n",
    "    least_difference(1, 10, 100),\n",
    "    least_difference(1, 10, 10),\n",
    "    least_difference(5, 6, 7), # Python allows trailing commas in argument lists. How nice is that?\n",
    ")"
   ]
  },
  {
   "cell_type": "markdown",
   "metadata": {
    "papermill": {
     "duration": 0.017819,
     "end_time": "2021-06-04T13:07:01.706845",
     "exception": false,
     "start_time": "2021-06-04T13:07:01.689026",
     "status": "completed"
    },
    "tags": []
   },
   "source": [
    "Or maybe the `help()` function can tell us something about it."
   ]
  },
  {
   "cell_type": "code",
   "execution_count": null,
   "metadata": {
    "execution": {
     "iopub.execute_input": "2021-06-04T13:07:01.745025Z",
     "iopub.status.busy": "2021-06-04T13:07:01.744433Z",
     "iopub.status.idle": "2021-06-04T13:07:01.749338Z",
     "shell.execute_reply": "2021-06-04T13:07:01.749796Z"
    },
    "papermill": {
     "duration": 0.026026,
     "end_time": "2021-06-04T13:07:01.749975",
     "exception": false,
     "start_time": "2021-06-04T13:07:01.723949",
     "status": "completed"
    },
    "tags": []
   },
   "outputs": [],
   "source": [
    "help(least_difference)"
   ]
  },
  {
   "cell_type": "markdown",
   "metadata": {
    "papermill": {
     "duration": 0.017219,
     "end_time": "2021-06-04T13:07:01.785072",
     "exception": false,
     "start_time": "2021-06-04T13:07:01.767853",
     "status": "completed"
    },
    "tags": []
   },
   "source": [
    "Python isn't smart enough to read my code and turn it into a nice English description. However, when I write a function, I can provide a description in what's called the **docstring**.\n",
    "\n",
    "### Docstrings"
   ]
  },
  {
   "cell_type": "code",
   "execution_count": null,
   "metadata": {
    "execution": {
     "iopub.execute_input": "2021-06-04T13:07:01.823324Z",
     "iopub.status.busy": "2021-06-04T13:07:01.822741Z",
     "iopub.status.idle": "2021-06-04T13:07:01.827188Z",
     "shell.execute_reply": "2021-06-04T13:07:01.827628Z"
    },
    "papermill": {
     "duration": 0.024193,
     "end_time": "2021-06-04T13:07:01.827786",
     "exception": false,
     "start_time": "2021-06-04T13:07:01.803593",
     "status": "completed"
    },
    "tags": []
   },
   "outputs": [],
   "source": [
    "def least_difference(a, b, c):\n",
    "    \"\"\"Return the smallest difference between any two numbers\n",
    "    among a, b and c.\n",
    "    \n",
    "    >>> least_difference(1, 5, -5)\n",
    "    4\n",
    "    \"\"\"\n",
    "    diff1 = abs(a - b)\n",
    "    diff2 = abs(b - c)\n",
    "    diff3 = abs(a - c)\n",
    "    return min(diff1, diff2, diff3)"
   ]
  },
  {
   "cell_type": "markdown",
   "metadata": {
    "papermill": {
     "duration": 0.0171,
     "end_time": "2021-06-04T13:07:01.862487",
     "exception": false,
     "start_time": "2021-06-04T13:07:01.845387",
     "status": "completed"
    },
    "tags": []
   },
   "source": [
    "The docstring is a triple-quoted string (which may span multiple lines) that comes immediately after the header of a function. When we call `help()` on a function, it shows the docstring."
   ]
  },
  {
   "cell_type": "code",
   "execution_count": null,
   "metadata": {
    "execution": {
     "iopub.execute_input": "2021-06-04T13:07:01.901236Z",
     "iopub.status.busy": "2021-06-04T13:07:01.900608Z",
     "iopub.status.idle": "2021-06-04T13:07:01.906769Z",
     "shell.execute_reply": "2021-06-04T13:07:01.906256Z"
    },
    "papermill": {
     "duration": 0.026344,
     "end_time": "2021-06-04T13:07:01.906900",
     "exception": false,
     "start_time": "2021-06-04T13:07:01.880556",
     "status": "completed"
    },
    "tags": []
   },
   "outputs": [],
   "source": [
    "help(least_difference)"
   ]
  },
  {
   "cell_type": "markdown",
   "metadata": {
    "papermill": {
     "duration": 0.016899,
     "end_time": "2021-06-04T13:07:01.977510",
     "exception": false,
     "start_time": "2021-06-04T13:07:01.960611",
     "status": "completed"
    },
    "tags": []
   },
   "source": [
    "Good programmers use docstrings unless they expect to throw away the code soon after it's used (which is rare).  So, you should start writing docstrings, too!"
   ]
  },
  {
   "cell_type": "markdown",
   "metadata": {
    "papermill": {
     "duration": 0.017628,
     "end_time": "2021-06-04T13:07:02.012295",
     "exception": false,
     "start_time": "2021-06-04T13:07:01.994667",
     "status": "completed"
    },
    "tags": []
   },
   "source": [
    "## Functions that don't return\n",
    "\n",
    "What would happen if we didn't include the `return` keyword in our function?"
   ]
  },
  {
   "cell_type": "code",
   "execution_count": null,
   "metadata": {
    "execution": {
     "iopub.execute_input": "2021-06-04T13:07:02.050113Z",
     "iopub.status.busy": "2021-06-04T13:07:02.049557Z",
     "iopub.status.idle": "2021-06-04T13:07:02.057429Z",
     "shell.execute_reply": "2021-06-04T13:07:02.056775Z"
    },
    "papermill": {
     "duration": 0.028061,
     "end_time": "2021-06-04T13:07:02.057580",
     "exception": false,
     "start_time": "2021-06-04T13:07:02.029519",
     "status": "completed"
    },
    "tags": []
   },
   "outputs": [],
   "source": [
    "def least_difference(a, b, c):\n",
    "    \"\"\"Return the smallest difference between any two numbers\n",
    "    among a, b and c.\n",
    "    \"\"\"\n",
    "    diff1 = abs(a - b)\n",
    "    diff2 = abs(b - c)\n",
    "    diff3 = abs(a - c)\n",
    "    min(diff1, diff2, diff3)\n",
    "    \n",
    "print(\n",
    "    least_difference(1, 10, 100),\n",
    "    least_difference(1, 10, 10),\n",
    "    least_difference(5, 6, 7),\n",
    ")"
   ]
  },
  {
   "cell_type": "markdown",
   "metadata": {
    "papermill": {
     "duration": 0.018074,
     "end_time": "2021-06-04T13:07:02.094549",
     "exception": false,
     "start_time": "2021-06-04T13:07:02.076475",
     "status": "completed"
    },
    "tags": []
   },
   "source": [
    "Python allows us to define such functions. The result of calling them is the special value `None`. (This is similar to the concept of \"null\" in other languages.)\n",
    "\n",
    "Without a `return` statement, `least_difference` is completely pointless, but a function with side effects may do something useful without returning anything. We've already seen two examples of this: `print()` and `help()` don't return anything. We only call them for their side effects (putting some text on the screen). Other examples of useful side effects include writing to a file, or modifying an input."
   ]
  },
  {
   "cell_type": "markdown",
   "metadata": {
    "papermill": {
     "duration": 0.017953,
     "end_time": "2021-06-04T13:07:02.177308",
     "exception": false,
     "start_time": "2021-06-04T13:07:02.159355",
     "status": "completed"
    },
    "tags": []
   },
   "source": [
    "## Default arguments\n",
    "\n",
    "When we called `help(print)`, we saw that the `print` function has several optional arguments. For example, we can specify a value for `sep` to put some special string in between our printed arguments:"
   ]
  },
  {
   "cell_type": "code",
   "execution_count": null,
   "metadata": {
    "execution": {
     "iopub.execute_input": "2021-06-04T13:07:02.219583Z",
     "iopub.status.busy": "2021-06-04T13:07:02.218953Z",
     "iopub.status.idle": "2021-06-04T13:07:02.223961Z",
     "shell.execute_reply": "2021-06-04T13:07:02.224630Z"
    },
    "papermill": {
     "duration": 0.028529,
     "end_time": "2021-06-04T13:07:02.224831",
     "exception": false,
     "start_time": "2021-06-04T13:07:02.196302",
     "status": "completed"
    },
    "tags": []
   },
   "outputs": [],
   "source": [
    "print(1, 2, 3, sep=' < ')"
   ]
  },
  {
   "cell_type": "markdown",
   "metadata": {
    "papermill": {
     "duration": 0.01908,
     "end_time": "2021-06-04T13:07:02.261948",
     "exception": false,
     "start_time": "2021-06-04T13:07:02.242868",
     "status": "completed"
    },
    "tags": []
   },
   "source": [
    "But if we don't specify a value, `sep` is treated as having a default value of `' '` (a single space)."
   ]
  },
  {
   "cell_type": "code",
   "execution_count": null,
   "metadata": {
    "execution": {
     "iopub.execute_input": "2021-06-04T13:07:02.302259Z",
     "iopub.status.busy": "2021-06-04T13:07:02.301713Z",
     "iopub.status.idle": "2021-06-04T13:07:02.306819Z",
     "shell.execute_reply": "2021-06-04T13:07:02.307301Z"
    },
    "papermill": {
     "duration": 0.026365,
     "end_time": "2021-06-04T13:07:02.307474",
     "exception": false,
     "start_time": "2021-06-04T13:07:02.281109",
     "status": "completed"
    },
    "tags": []
   },
   "outputs": [],
   "source": [
    "print(1, 2, 3)"
   ]
  },
  {
   "cell_type": "markdown",
   "metadata": {
    "papermill": {
     "duration": 0.018414,
     "end_time": "2021-06-04T13:07:02.344425",
     "exception": false,
     "start_time": "2021-06-04T13:07:02.326011",
     "status": "completed"
    },
    "tags": []
   },
   "source": [
    "Adding optional arguments with default values to the functions we define turns out to be pretty easy:"
   ]
  },
  {
   "cell_type": "code",
   "execution_count": null,
   "metadata": {
    "execution": {
     "iopub.execute_input": "2021-06-04T13:07:02.385777Z",
     "iopub.status.busy": "2021-06-04T13:07:02.385243Z",
     "iopub.status.idle": "2021-06-04T13:07:02.390897Z",
     "shell.execute_reply": "2021-06-04T13:07:02.391305Z"
    },
    "papermill": {
     "duration": 0.027325,
     "end_time": "2021-06-04T13:07:02.391468",
     "exception": false,
     "start_time": "2021-06-04T13:07:02.364143",
     "status": "completed"
    },
    "tags": []
   },
   "outputs": [],
   "source": [
    "def greet(who=\"Colin\"):\n",
    "    print(\"Hello,\", who)\n",
    "    \n",
    "greet()\n",
    "greet(who=\"Kaggle\")\n",
    "# (In this case, we don't need to specify the name of the argument, because it's unambiguous.)\n",
    "greet(\"world\")"
   ]
  },
  {
   "cell_type": "markdown",
   "metadata": {
    "papermill": {
     "duration": 0.020027,
     "end_time": "2021-06-04T13:07:02.606843",
     "exception": false,
     "start_time": "2021-06-04T13:07:02.586816",
     "status": "completed"
    },
    "tags": []
   },
   "source": [
    "# Your Turn"
   ]
  }
 ],
 "metadata": {
  "kernelspec": {
   "display_name": "Python 3",
   "language": "python",
   "name": "python3"
  },
  "language_info": {
   "codemirror_mode": {
    "name": "ipython",
    "version": 3
   },
   "file_extension": ".py",
   "mimetype": "text/x-python",
   "name": "python",
   "nbconvert_exporter": "python",
   "pygments_lexer": "ipython3",
   "version": "3.8.3"
  },
  "learntools_metadata": {
   "lesson_index": 1,
   "type": "tutorial"
  },
  "papermill": {
   "default_parameters": {},
   "duration": 7.842213,
   "end_time": "2021-06-04T13:07:03.273546",
   "environment_variables": {},
   "exception": null,
   "input_path": "__notebook__.ipynb",
   "output_path": "__notebook__.ipynb",
   "parameters": {},
   "start_time": "2021-06-04T13:06:55.431333",
   "version": "2.3.2"
  }
 },
 "nbformat": 4,
 "nbformat_minor": 5
}
