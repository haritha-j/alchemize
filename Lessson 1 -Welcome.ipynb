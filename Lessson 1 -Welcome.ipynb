{
 "cells": [
  {
   "cell_type": "markdown",
   "metadata": {},
   "source": [
    "# Welcome to Programming!"
   ]
  },
  {
   "cell_type": "markdown",
   "metadata": {
    "papermill": {
     "duration": 0.01787,
     "end_time": "2021-06-04T13:06:57.197508",
     "exception": false,
     "start_time": "2021-06-04T13:06:57.179638",
     "status": "completed"
    },
    "tags": []
   },
   "source": [
    "Welcome to your first class. In this lesson, you'll go through the basics of python, and learn how to use python to solve everyday problems."
   ]
  },
  {
   "cell_type": "markdown",
   "metadata": {
    "papermill": {
     "duration": 0.016372,
     "end_time": "2021-06-04T13:06:57.231829",
     "exception": false,
     "start_time": "2021-06-04T13:06:57.215457",
     "status": "completed"
    },
    "tags": []
   },
   "source": [
    "## Hello, Python!\n",
    "\n",
    "Let's take a look at a (very simple) python code."
   ]
  },
  {
   "cell_type": "code",
   "execution_count": null,
   "metadata": {
    "_kg_hide-output": true,
    "execution": {
     "iopub.execute_input": "2021-06-04T13:06:57.271529Z",
     "iopub.status.busy": "2021-06-04T13:06:57.270482Z",
     "iopub.status.idle": "2021-06-04T13:06:57.275578Z",
     "shell.execute_reply": "2021-06-04T13:06:57.275001Z"
    },
    "papermill": {
     "duration": 0.027367,
     "end_time": "2021-06-04T13:06:57.275722",
     "exception": false,
     "start_time": "2021-06-04T13:06:57.248355",
     "status": "completed"
    },
    "tags": []
   },
   "outputs": [],
   "source": [
    "seconds_in_a_day = 24 * 60 * 60\n",
    "print(\"seconds in a day\", seconds_in_a_day)\n",
    "\n",
    "#calculate seconds in a week\n",
    "seconds_in_a_week = 7 * seconds_in_a_day\n",
    "print(\"seconds in a week\", seconds_in_a_week)\n"
   ]
  },
  {
   "cell_type": "markdown",
   "metadata": {
    "papermill": {
     "duration": 0.016773,
     "end_time": "2021-06-04T13:06:57.311689",
     "exception": false,
     "start_time": "2021-06-04T13:06:57.294916",
     "status": "completed"
    },
    "tags": []
   },
   "source": [
    "There's a lot to unpack here! This  program demonstrates many important aspects of what Python code looks like and how it works. "
   ]
  },
  {
   "cell_type": "code",
   "execution_count": null,
   "metadata": {
    "execution": {
     "iopub.execute_input": "2021-06-04T13:06:57.350775Z",
     "iopub.status.busy": "2021-06-04T13:06:57.350226Z",
     "iopub.status.idle": "2021-06-04T13:06:57.353613Z",
     "shell.execute_reply": "2021-06-04T13:06:57.353058Z"
    },
    "papermill": {
     "duration": 0.025,
     "end_time": "2021-06-04T13:06:57.353752",
     "exception": false,
     "start_time": "2021-06-04T13:06:57.328752",
     "status": "completed"
    },
    "tags": []
   },
   "outputs": [],
   "source": [
    "seconds_in_a_day = 24 * 60 * 60"
   ]
  },
  {
   "cell_type": "markdown",
   "metadata": {
    "papermill": {
     "duration": 0.016643,
     "end_time": "2021-06-04T13:06:57.387706",
     "exception": false,
     "start_time": "2021-06-04T13:06:57.371063",
     "status": "completed"
    },
    "tags": []
   },
   "source": [
    "**Variable assignment:** Here we create a variable called `seconds_in_a_day` and assign it the value of 0 using `=`, which is called the assignment operator.\n"
   ]
  },
  {
   "cell_type": "code",
   "execution_count": null,
   "metadata": {
    "_kg_hide-output": false,
    "execution": {
     "iopub.execute_input": "2021-06-04T13:06:57.426718Z",
     "iopub.status.busy": "2021-06-04T13:06:57.426101Z",
     "iopub.status.idle": "2021-06-04T13:06:57.429519Z",
     "shell.execute_reply": "2021-06-04T13:06:57.429038Z"
    },
    "papermill": {
     "duration": 0.024896,
     "end_time": "2021-06-04T13:06:57.429651",
     "exception": false,
     "start_time": "2021-06-04T13:06:57.404755",
     "status": "completed"
    },
    "tags": []
   },
   "outputs": [],
   "source": [
    "print(seconds_in_a_day)"
   ]
  },
  {
   "cell_type": "markdown",
   "metadata": {
    "papermill": {
     "duration": 0.017615,
     "end_time": "2021-06-04T13:06:57.465299",
     "exception": false,
     "start_time": "2021-06-04T13:06:57.447684",
     "status": "completed"
    },
    "tags": []
   },
   "source": [
    "**Function calls:**. `print` is a Python function that displays the value passed to it on the screen. We call functions by putting parentheses after their name, and putting the inputs (or *arguments*) to the function in those parentheses."
   ]
  },
  {
   "cell_type": "code",
   "execution_count": null,
   "metadata": {
    "_kg_hide-output": false,
    "execution": {
     "iopub.execute_input": "2021-06-04T13:06:57.505876Z",
     "iopub.status.busy": "2021-06-04T13:06:57.505264Z",
     "iopub.status.idle": "2021-06-04T13:06:57.508025Z",
     "shell.execute_reply": "2021-06-04T13:06:57.507452Z"
    },
    "papermill": {
     "duration": 0.024767,
     "end_time": "2021-06-04T13:06:57.508159",
     "exception": false,
     "start_time": "2021-06-04T13:06:57.483392",
     "status": "completed"
    },
    "tags": []
   },
   "outputs": [],
   "source": [
    "#calculate seconds in a week\n",
    "seconds_in_a_week = 7 * seconds_in_a_day"
   ]
  },
  {
   "cell_type": "markdown",
   "metadata": {
    "papermill": {
     "duration": 0.018098,
     "end_time": "2021-06-04T13:06:57.544190",
     "exception": false,
     "start_time": "2021-06-04T13:06:57.526092",
     "status": "completed"
    },
    "tags": []
   },
   "source": [
    "The first line above is a **comment**. In Python, comments begin with the `#` symbol.\n",
    "\n",
    "Next we use a previously defined variable to do some simple arithmetic. When it encounters this line, Python evaluates the expression on the right-hand-side of the `=` (7 * seconds_in_a_day =604800), and then assigns that value to the variable on the left-hand-side."
   ]
  },
  {
   "cell_type": "markdown",
   "metadata": {
    "papermill": {
     "duration": 0.017843,
     "end_time": "2021-06-04T13:06:57.703891",
     "exception": false,
     "start_time": "2021-06-04T13:06:57.686048",
     "status": "completed"
    },
    "tags": []
   },
   "source": [
    "The `*` operator can be used to multiply two numbers (`3 * 3` evaluates to 9), but we can also multiply a string by a number, to get a version that's been repeated that many times. Python offers a number of cheeky little time-saving tricks like this where operators like `*` and `+` have a different meaning depending on what kind of thing they're applied to. (The technical term for this is [operator overloading](https://en.wikipedia.org/wiki/Operator_overloading).)"
   ]
  },
  {
   "cell_type": "markdown",
   "metadata": {
    "papermill": {
     "duration": 0.017832,
     "end_time": "2021-06-04T13:06:57.739848",
     "exception": false,
     "start_time": "2021-06-04T13:06:57.722016",
     "status": "completed"
    },
    "tags": []
   },
   "source": [
    "## Numbers and arithmetic in Python\n",
    "\n",
    "We've already seen an example of a variable containing a number above:"
   ]
  },
  {
   "cell_type": "code",
   "execution_count": null,
   "metadata": {
    "execution": {
     "iopub.execute_input": "2021-06-04T13:06:57.779444Z",
     "iopub.status.busy": "2021-06-04T13:06:57.778784Z",
     "iopub.status.idle": "2021-06-04T13:06:57.782116Z",
     "shell.execute_reply": "2021-06-04T13:06:57.782552Z"
    },
    "papermill": {
     "duration": 0.024527,
     "end_time": "2021-06-04T13:06:57.782722",
     "exception": false,
     "start_time": "2021-06-04T13:06:57.758195",
     "status": "completed"
    },
    "tags": []
   },
   "outputs": [],
   "source": [
    "seconds_in_a_day = 0"
   ]
  },
  {
   "cell_type": "markdown",
   "metadata": {
    "papermill": {
     "duration": 0.019022,
     "end_time": "2021-06-04T13:06:57.819837",
     "exception": false,
     "start_time": "2021-06-04T13:06:57.800815",
     "status": "completed"
    },
    "tags": []
   },
   "source": [
    "\"Number\" is a fine informal name for the kind of thing, but if we wanted to be more technical, we could ask Python how it would describe the type of thing that `seconds_in_a_day` is:"
   ]
  },
  {
   "cell_type": "code",
   "execution_count": null,
   "metadata": {
    "execution": {
     "iopub.execute_input": "2021-06-04T13:06:57.866158Z",
     "iopub.status.busy": "2021-06-04T13:06:57.865470Z",
     "iopub.status.idle": "2021-06-04T13:06:57.871557Z",
     "shell.execute_reply": "2021-06-04T13:06:57.871990Z"
    },
    "papermill": {
     "duration": 0.027831,
     "end_time": "2021-06-04T13:06:57.872176",
     "exception": false,
     "start_time": "2021-06-04T13:06:57.844345",
     "status": "completed"
    },
    "tags": []
   },
   "outputs": [],
   "source": [
    "type(seconds_in_a_day)"
   ]
  },
  {
   "cell_type": "markdown",
   "metadata": {
    "papermill": {
     "duration": 0.018547,
     "end_time": "2021-06-04T13:06:57.911220",
     "exception": false,
     "start_time": "2021-06-04T13:06:57.892673",
     "status": "completed"
    },
    "tags": []
   },
   "source": [
    "It's an `int` - short for integer. There's another sort of number we commonly encounter in Python:"
   ]
  },
  {
   "cell_type": "code",
   "execution_count": null,
   "metadata": {
    "execution": {
     "iopub.execute_input": "2021-06-04T13:06:57.951693Z",
     "iopub.status.busy": "2021-06-04T13:06:57.951120Z",
     "iopub.status.idle": "2021-06-04T13:06:57.957087Z",
     "shell.execute_reply": "2021-06-04T13:06:57.956585Z"
    },
    "papermill": {
     "duration": 0.027347,
     "end_time": "2021-06-04T13:06:57.957231",
     "exception": false,
     "start_time": "2021-06-04T13:06:57.929884",
     "status": "completed"
    },
    "tags": []
   },
   "outputs": [],
   "source": [
    "type(19.95)"
   ]
  },
  {
   "cell_type": "markdown",
   "metadata": {
    "papermill": {
     "duration": 0.018491,
     "end_time": "2021-06-04T13:06:57.994756",
     "exception": false,
     "start_time": "2021-06-04T13:06:57.976265",
     "status": "completed"
    },
    "tags": []
   },
   "source": [
    "A `float` is a number with a decimal place - very useful for representing things like weights or proportions.\n",
    "\n",
    "`type()` is the second built-in function we've seen (after `print()`), and it's another good one to remember. It's very useful to be able to ask Python \"what kind of thing is this?\". "
   ]
  },
  {
   "cell_type": "markdown",
   "metadata": {
    "papermill": {
     "duration": 0.018559,
     "end_time": "2021-06-04T13:06:58.032642",
     "exception": false,
     "start_time": "2021-06-04T13:06:58.014083",
     "status": "completed"
    },
    "tags": []
   },
   "source": [
    "A natural thing to want to do with numbers is perform arithmetic. We've seen the `+` operator for addition, and the `*` operator for multiplication. Python also has us covered for the rest of the basic buttons on your calculator:\n",
    "\n",
    "| Operator     | Name           | Description                                            |\n",
    "|--------------|----------------|--------------------------------------------------------|\n",
    "| ``a + b``    | Addition       | Sum of ``a`` and ``b``                                 |\n",
    "| ``a - b``    | Subtraction    | Difference of ``a`` and ``b``                          |\n",
    "| ``a * b``    | Multiplication | Product of ``a`` and ``b``                             |\n",
    "| ``a / b``    | True division  | Quotient of ``a`` and ``b``                            |\n",
    "| ``a // b``   | Floor division | Quotient of ``a`` and ``b``, removing fractional parts |\n",
    "| ``a % b``    | Modulus        | Integer remainder after division of ``a`` by ``b``     |\n",
    "| ``a ** b``   | Exponentiation | ``a`` raised to the power of ``b``                     |\n",
    "| ``-a``       | Negation       | The negative of ``a``                                  |\n",
    "\n",
    "<span style=\"display:none\"></span>\n",
    "\n",
    "One interesting observation here is that, whereas your calculator probably just has one button for division, Python can do two kinds. \"True division\" is basically what your calculator does:"
   ]
  },
  {
   "cell_type": "code",
   "execution_count": null,
   "metadata": {
    "execution": {
     "iopub.execute_input": "2021-06-04T13:06:58.074522Z",
     "iopub.status.busy": "2021-06-04T13:06:58.073568Z",
     "iopub.status.idle": "2021-06-04T13:06:58.079360Z",
     "shell.execute_reply": "2021-06-04T13:06:58.078795Z"
    },
    "papermill": {
     "duration": 0.028142,
     "end_time": "2021-06-04T13:06:58.079508",
     "exception": false,
     "start_time": "2021-06-04T13:06:58.051366",
     "status": "completed"
    },
    "tags": []
   },
   "outputs": [],
   "source": [
    "print(5 / 2)\n",
    "print(6 / 2)"
   ]
  },
  {
   "cell_type": "markdown",
   "metadata": {
    "papermill": {
     "duration": 0.019051,
     "end_time": "2021-06-04T13:06:58.117755",
     "exception": false,
     "start_time": "2021-06-04T13:06:58.098704",
     "status": "completed"
    },
    "tags": []
   },
   "source": [
    "It always gives us a `float`. \n",
    "\n",
    "The `//` operator gives us a result that's rounded down to the next integer."
   ]
  },
  {
   "cell_type": "code",
   "execution_count": null,
   "metadata": {
    "execution": {
     "iopub.execute_input": "2021-06-04T13:06:58.161599Z",
     "iopub.status.busy": "2021-06-04T13:06:58.160701Z",
     "iopub.status.idle": "2021-06-04T13:06:58.163562Z",
     "shell.execute_reply": "2021-06-04T13:06:58.163990Z"
    },
    "papermill": {
     "duration": 0.027267,
     "end_time": "2021-06-04T13:06:58.164149",
     "exception": false,
     "start_time": "2021-06-04T13:06:58.136882",
     "status": "completed"
    },
    "tags": []
   },
   "outputs": [],
   "source": [
    "print(5 // 2)\n",
    "print(6 // 2)"
   ]
  },
  {
   "cell_type": "markdown",
   "metadata": {
    "papermill": {
     "duration": 0.018944,
     "end_time": "2021-06-04T13:06:58.202329",
     "exception": false,
     "start_time": "2021-06-04T13:06:58.183385",
     "status": "completed"
    },
    "tags": []
   },
   "source": [
    "Can you think of where this would be useful? "
   ]
  },
  {
   "cell_type": "markdown",
   "metadata": {
    "papermill": {
     "duration": 0.018833,
     "end_time": "2021-06-04T13:06:58.240806",
     "exception": false,
     "start_time": "2021-06-04T13:06:58.221973",
     "status": "completed"
    },
    "tags": []
   },
   "source": [
    "### Order of operations\n",
    "\n",
    "The arithmetic we learned in primary school has conventions about the order in which operations are evaluated. Some remember these by a mnemonic such as **PEMDAS** - **P**arentheses, **E**xponents, **M**ultiplication/**D**ivision, **A**ddition/**S**ubtraction.\n",
    "\n",
    "Python follows similar rules about which calculations to perform first. They're mostly pretty intuitive."
   ]
  },
  {
   "cell_type": "code",
   "execution_count": null,
   "metadata": {
    "execution": {
     "iopub.execute_input": "2021-06-04T13:06:58.284750Z",
     "iopub.status.busy": "2021-06-04T13:06:58.283958Z",
     "iopub.status.idle": "2021-06-04T13:06:58.287891Z",
     "shell.execute_reply": "2021-06-04T13:06:58.287420Z"
    },
    "papermill": {
     "duration": 0.027792,
     "end_time": "2021-06-04T13:06:58.288031",
     "exception": false,
     "start_time": "2021-06-04T13:06:58.260239",
     "status": "completed"
    },
    "tags": []
   },
   "outputs": [],
   "source": [
    "8 - 3 + 2"
   ]
  },
  {
   "cell_type": "code",
   "execution_count": null,
   "metadata": {
    "execution": {
     "iopub.execute_input": "2021-06-04T13:06:58.331449Z",
     "iopub.status.busy": "2021-06-04T13:06:58.330823Z",
     "iopub.status.idle": "2021-06-04T13:06:58.335492Z",
     "shell.execute_reply": "2021-06-04T13:06:58.335937Z"
    },
    "papermill": {
     "duration": 0.0278,
     "end_time": "2021-06-04T13:06:58.336119",
     "exception": false,
     "start_time": "2021-06-04T13:06:58.308319",
     "status": "completed"
    },
    "tags": []
   },
   "outputs": [],
   "source": [
    "-3 + 4 * 2"
   ]
  },
  {
   "cell_type": "markdown",
   "metadata": {
    "papermill": {
     "duration": 0.019915,
     "end_time": "2021-06-04T13:06:58.376211",
     "exception": false,
     "start_time": "2021-06-04T13:06:58.356296",
     "status": "completed"
    },
    "tags": []
   },
   "source": [
    "Sometimes the default order of operations isn't what we want:"
   ]
  },
  {
   "cell_type": "code",
   "execution_count": null,
   "metadata": {
    "execution": {
     "iopub.execute_input": "2021-06-04T13:06:58.420929Z",
     "iopub.status.busy": "2021-06-04T13:06:58.420335Z",
     "iopub.status.idle": "2021-06-04T13:06:58.425239Z",
     "shell.execute_reply": "2021-06-04T13:06:58.425652Z"
    },
    "papermill": {
     "duration": 0.028734,
     "end_time": "2021-06-04T13:06:58.425807",
     "exception": false,
     "start_time": "2021-06-04T13:06:58.397073",
     "status": "completed"
    },
    "tags": []
   },
   "outputs": [],
   "source": [
    "hat_height_cm = 25\n",
    "my_height_cm = 190\n",
    "# How tall am I, in meters, when wearing my hat?\n",
    "total_height_meters = hat_height_cm + my_height_cm / 100\n",
    "print(\"Height in meters =\", total_height_meters, \"?\")"
   ]
  },
  {
   "cell_type": "markdown",
   "metadata": {
    "papermill": {
     "duration": 0.020005,
     "end_time": "2021-06-04T13:06:58.466225",
     "exception": false,
     "start_time": "2021-06-04T13:06:58.446220",
     "status": "completed"
    },
    "tags": []
   },
   "source": [
    "Parentheses are useful here. You can add them to force Python to evaluate sub-expressions in whatever order you want."
   ]
  },
  {
   "cell_type": "code",
   "execution_count": null,
   "metadata": {
    "execution": {
     "iopub.execute_input": "2021-06-04T13:06:58.509627Z",
     "iopub.status.busy": "2021-06-04T13:06:58.509057Z",
     "iopub.status.idle": "2021-06-04T13:06:58.514005Z",
     "shell.execute_reply": "2021-06-04T13:06:58.514396Z"
    },
    "papermill": {
     "duration": 0.028226,
     "end_time": "2021-06-04T13:06:58.514559",
     "exception": false,
     "start_time": "2021-06-04T13:06:58.486333",
     "status": "completed"
    },
    "tags": []
   },
   "outputs": [],
   "source": [
    "total_height_meters = (hat_height_cm + my_height_cm) / 100\n",
    "print(\"Height in meters =\", total_height_meters)"
   ]
  },
  {
   "cell_type": "markdown",
   "metadata": {
    "papermill": {
     "duration": 0.020884,
     "end_time": "2021-06-04T13:06:58.556322",
     "exception": false,
     "start_time": "2021-06-04T13:06:58.535438",
     "status": "completed"
    },
    "tags": []
   },
   "source": [
    "### Builtin functions for working with numbers\n",
    "\n",
    "`min` and `max` return the minimum and maximum of their arguments, respectively..."
   ]
  },
  {
   "cell_type": "code",
   "execution_count": null,
   "metadata": {
    "execution": {
     "iopub.execute_input": "2021-06-04T13:06:58.601265Z",
     "iopub.status.busy": "2021-06-04T13:06:58.600626Z",
     "iopub.status.idle": "2021-06-04T13:06:58.604761Z",
     "shell.execute_reply": "2021-06-04T13:06:58.605251Z"
    },
    "papermill": {
     "duration": 0.028046,
     "end_time": "2021-06-04T13:06:58.605421",
     "exception": false,
     "start_time": "2021-06-04T13:06:58.577375",
     "status": "completed"
    },
    "tags": []
   },
   "outputs": [],
   "source": [
    "print(min(1, 2, 3))\n",
    "print(max(1, 2, 3))"
   ]
  },
  {
   "cell_type": "markdown",
   "metadata": {
    "papermill": {
     "duration": 0.020749,
     "end_time": "2021-06-04T13:06:58.647256",
     "exception": false,
     "start_time": "2021-06-04T13:06:58.626507",
     "status": "completed"
    },
    "tags": []
   },
   "source": [
    "`abs` returns the absolute value of an argument:"
   ]
  },
  {
   "cell_type": "code",
   "execution_count": null,
   "metadata": {
    "execution": {
     "iopub.execute_input": "2021-06-04T13:06:58.692307Z",
     "iopub.status.busy": "2021-06-04T13:06:58.691686Z",
     "iopub.status.idle": "2021-06-04T13:06:58.696593Z",
     "shell.execute_reply": "2021-06-04T13:06:58.696140Z"
    },
    "papermill": {
     "duration": 0.028429,
     "end_time": "2021-06-04T13:06:58.696725",
     "exception": false,
     "start_time": "2021-06-04T13:06:58.668296",
     "status": "completed"
    },
    "tags": []
   },
   "outputs": [],
   "source": [
    "print(abs(32))\n",
    "print(abs(-32))"
   ]
  },
  {
   "cell_type": "markdown",
   "metadata": {
    "papermill": {
     "duration": 0.021294,
     "end_time": "2021-06-04T13:06:58.739733",
     "exception": false,
     "start_time": "2021-06-04T13:06:58.718439",
     "status": "completed"
    },
    "tags": []
   },
   "source": [
    "In addition to being the names of Python's two main numerical types, `int` and `float` can also be called as functions which convert their arguments to the corresponding type:"
   ]
  },
  {
   "cell_type": "code",
   "execution_count": null,
   "metadata": {
    "execution": {
     "iopub.execute_input": "2021-06-04T13:06:58.787792Z",
     "iopub.status.busy": "2021-06-04T13:06:58.786780Z",
     "iopub.status.idle": "2021-06-04T13:06:58.790812Z",
     "shell.execute_reply": "2021-06-04T13:06:58.790247Z"
    },
    "papermill": {
     "duration": 0.029766,
     "end_time": "2021-06-04T13:06:58.790981",
     "exception": false,
     "start_time": "2021-06-04T13:06:58.761215",
     "status": "completed"
    },
    "tags": []
   },
   "outputs": [],
   "source": [
    "print(float(10))\n",
    "print(int(3.33))\n",
    "# They can even be called on strings!\n",
    "print(int('807') + 1)"
   ]
  },
  {
   "cell_type": "markdown",
   "metadata": {
    "papermill": {
     "duration": 0.022976,
     "end_time": "2021-06-04T13:06:58.836111",
     "exception": false,
     "start_time": "2021-06-04T13:06:58.813135",
     "status": "completed"
    },
    "tags": []
   },
   "source": [
    "# Your Turn\n"
   ]
  }
 ],
 "metadata": {
  "anaconda-cloud": {},
  "celltoolbar": "Edit Metadata",
  "kernelspec": {
   "display_name": "Python 3",
   "language": "python",
   "name": "python3"
  },
  "language_info": {
   "codemirror_mode": {
    "name": "ipython",
    "version": 3
   },
   "file_extension": ".py",
   "mimetype": "text/x-python",
   "name": "python",
   "nbconvert_exporter": "python",
   "pygments_lexer": "ipython3",
   "version": "3.8.3"
  },
  "learntools_metadata": {
   "lesson_index": 0,
   "type": "tutorial"
  },
  "papermill": {
   "default_parameters": {},
   "duration": 8.328042,
   "end_time": "2021-06-04T13:06:59.511024",
   "environment_variables": {},
   "exception": null,
   "input_path": "__notebook__.ipynb",
   "output_path": "__notebook__.ipynb",
   "parameters": {},
   "start_time": "2021-06-04T13:06:51.182982",
   "version": "2.3.2"
  }
 },
 "nbformat": 4,
 "nbformat_minor": 5
}
