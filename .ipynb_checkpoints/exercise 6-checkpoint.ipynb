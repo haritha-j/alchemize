{
 "cells": [
  {
   "cell_type": "markdown",
   "metadata": {},
   "source": [
    "# Exercise 6 - Files"
   ]
  },
  {
   "cell_type": "markdown",
   "metadata": {},
   "source": [
    "You are almost done with the course. Nice job!\n",
    "\n",
    "We have a couple more interesting problems for you before you go. "
   ]
  },
  {
   "cell_type": "markdown",
   "metadata": {},
   "source": [
    "# 1.\n",
    "\n",
    "There is a saying that \"Data scientists spend 80% of their time cleaning data, and 20% of their time complaining about cleaning data.\" Let's see if you can write a function to help clean post code data. Given a string, it should return whether or not that string represents a valid post code. For our purposes, a valid post code is any string consisting of exactly 5 digits.\n",
    "\n",
    "HINT: `str` has a method called `isdigit()` that will be useful here. "
   ]
  },
  {
   "cell_type": "code",
   "execution_count": null,
   "metadata": {},
   "outputs": [],
   "source": [
    "def is_valid_post_code(post_code):\n",
    "    \"\"\"Returns whether the input string is a valid (5 digit) zip code\n",
    "    \"\"\"\n",
    "    return post_code.isdigit() and len(post_code) ==5\n",
    "\n",
    "print(is_valid_post_code(\"00800\"))\n",
    "print(is_valid_post_code(\"0080\"))\n",
    "print(is_valid_post_code(\"008000\"))\n",
    "print(is_valid_post_code(\"00X00\"))\n"
   ]
  },
  {
   "cell_type": "markdown",
   "metadata": {},
   "source": [
    "# 2.\n",
    "\n",
    "Assume you're given a text file with a list of postal codes, one per each line, called `codes.txt`. Your task is to create a new text file called `output.txt` which ONLY contains the valid postal codes, one per each line. You can call the function above to identify valid codes. \n",
    "\n",
    "We've included the code from our last lesson below. You can use it as starter code to achieve your objective.\n",
    "\n",
    "HINT: `str` has a method called `strip()` that will be useful here. "
   ]
  },
  {
   "cell_type": "code",
   "execution_count": null,
   "metadata": {},
   "outputs": [],
   "source": [
    "# this will download a small file for us to work with.\n",
    "!wget https://raw.githubusercontent.com/haritha-j/alchemize/main/codes.txt"
   ]
  },
  {
   "cell_type": "code",
   "execution_count": null,
   "metadata": {},
   "outputs": [],
   "source": [
    "\n",
    "input_file_name = \"codes.txt\"\n",
    "output_file_name = \"output.txt\"\n",
    "input_file = open(input_file_name, 'r')\n",
    "output_file = open(output_file_name, 'w')\n",
    "\n",
    "for line in input_file.readlines():\n",
    "    output_file.write(line.upper())\n",
    "\n",
    "input_file.close()\n",
    "output_file.close()"
   ]
  },
  {
   "cell_type": "code",
   "execution_count": null,
   "metadata": {},
   "outputs": [],
   "source": [
    "#use this code to print the contents of the output file and make sure your answers are correct\n",
    "file_name = \"output.txt\"\n",
    "f = open(file_name, 'r')\n",
    "for line in f.readlines():\n",
    "    print(line)\n",
    "f.close()"
   ]
  },
  {
   "cell_type": "markdown",
   "metadata": {},
   "source": [
    "# Congratulations!\n",
    "\n",
    "You've learned a lot. You have taken a deep dive into the world of programming, and come up on the other side. But there's still a lot more you can learn, and a lot of fields you can enter within the world of programming!\n",
    "\n",
    "Next week, we'll take a look at how we can use our knowledge to analyze data - A key skill than everyone needs in a world driven by data.\n"
   ]
  }
 ],
 "metadata": {
  "kernelspec": {
   "display_name": "Python 3",
   "language": "python",
   "name": "python3"
  },
  "language_info": {
   "codemirror_mode": {
    "name": "ipython",
    "version": 3
   },
   "file_extension": ".py",
   "mimetype": "text/x-python",
   "name": "python",
   "nbconvert_exporter": "python",
   "pygments_lexer": "ipython3",
   "version": "3.8.3"
  },
  "learntools_metadata": {
   "lesson_index": 5,
   "type": "exercise"
  }
 },
 "nbformat": 4,
 "nbformat_minor": 2
}
