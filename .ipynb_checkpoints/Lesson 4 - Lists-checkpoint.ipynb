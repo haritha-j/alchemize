{
 "cells": [
  {
   "cell_type": "markdown",
   "metadata": {
    "papermill": {
     "duration": 0.048162,
     "end_time": "2021-06-04T13:07:00.134004",
     "exception": false,
     "start_time": "2021-06-04T13:07:00.085842",
     "status": "completed"
    },
    "tags": []
   },
   "source": [
    "# Lesson 4 - Lists\n",
    "\n",
    "Lists in Python represent ordered sequences of values. Here is an example of how to create them:"
   ]
  },
  {
   "cell_type": "code",
   "execution_count": null,
   "metadata": {
    "execution": {
     "iopub.execute_input": "2021-06-04T13:07:00.226991Z",
     "iopub.status.busy": "2021-06-04T13:07:00.226189Z",
     "iopub.status.idle": "2021-06-04T13:07:00.230442Z",
     "shell.execute_reply": "2021-06-04T13:07:00.229757Z"
    },
    "papermill": {
     "duration": 0.053291,
     "end_time": "2021-06-04T13:07:00.230645",
     "exception": false,
     "start_time": "2021-06-04T13:07:00.177354",
     "status": "completed"
    },
    "tags": []
   },
   "outputs": [],
   "source": [
    "primes = [2, 3, 5, 7]"
   ]
  },
  {
   "cell_type": "markdown",
   "metadata": {
    "papermill": {
     "duration": 0.04445,
     "end_time": "2021-06-04T13:07:00.318659",
     "exception": false,
     "start_time": "2021-06-04T13:07:00.274209",
     "status": "completed"
    },
    "tags": []
   },
   "source": [
    "We can put other types of things in lists:"
   ]
  },
  {
   "cell_type": "code",
   "execution_count": null,
   "metadata": {
    "execution": {
     "iopub.execute_input": "2021-06-04T13:07:00.414203Z",
     "iopub.status.busy": "2021-06-04T13:07:00.413141Z",
     "iopub.status.idle": "2021-06-04T13:07:00.416457Z",
     "shell.execute_reply": "2021-06-04T13:07:00.415804Z"
    },
    "papermill": {
     "duration": 0.053747,
     "end_time": "2021-06-04T13:07:00.416632",
     "exception": false,
     "start_time": "2021-06-04T13:07:00.362885",
     "status": "completed"
    },
    "tags": []
   },
   "outputs": [],
   "source": [
    "planets = ['Mercury', 'Venus', 'Earth', 'Mars', 'Jupiter', 'Saturn', 'Uranus', 'Neptune']"
   ]
  },
  {
   "cell_type": "markdown",
   "metadata": {
    "papermill": {
     "duration": 0.044587,
     "end_time": "2021-06-04T13:07:00.505077",
     "exception": false,
     "start_time": "2021-06-04T13:07:00.460490",
     "status": "completed"
    },
    "tags": []
   },
   "source": [
    "We can even make a list of lists:"
   ]
  },
  {
   "cell_type": "code",
   "execution_count": null,
   "metadata": {
    "execution": {
     "iopub.execute_input": "2021-06-04T13:07:00.598116Z",
     "iopub.status.busy": "2021-06-04T13:07:00.597424Z",
     "iopub.status.idle": "2021-06-04T13:07:00.600577Z",
     "shell.execute_reply": "2021-06-04T13:07:00.599931Z"
    },
    "papermill": {
     "duration": 0.052707,
     "end_time": "2021-06-04T13:07:00.600719",
     "exception": false,
     "start_time": "2021-06-04T13:07:00.548012",
     "status": "completed"
    },
    "tags": []
   },
   "outputs": [],
   "source": [
    "hands = [\n",
    "    ['J', 'Q', 'K'],\n",
    "    ['2', '2', '2'],\n",
    "    ['6', 'A', 'K'], # (Comma after the last element is optional)\n",
    "]\n",
    "# (I could also have written this on one line, but it can get hard to read)\n",
    "hands = [['J', 'Q', 'K'], ['2', '2', '2'], ['6', 'A', 'K']]"
   ]
  },
  {
   "cell_type": "markdown",
   "metadata": {
    "papermill": {
     "duration": 0.042641,
     "end_time": "2021-06-04T13:07:00.686747",
     "exception": false,
     "start_time": "2021-06-04T13:07:00.644106",
     "status": "completed"
    },
    "tags": []
   },
   "source": [
    "A list can contain a mix of different types of variables:"
   ]
  },
  {
   "cell_type": "code",
   "execution_count": null,
   "metadata": {
    "execution": {
     "iopub.execute_input": "2021-06-04T13:07:00.780277Z",
     "iopub.status.busy": "2021-06-04T13:07:00.779609Z",
     "iopub.status.idle": "2021-06-04T13:07:00.782745Z",
     "shell.execute_reply": "2021-06-04T13:07:00.782083Z"
    },
    "papermill": {
     "duration": 0.053151,
     "end_time": "2021-06-04T13:07:00.782897",
     "exception": false,
     "start_time": "2021-06-04T13:07:00.729746",
     "status": "completed"
    },
    "tags": []
   },
   "outputs": [],
   "source": [
    "my_favourite_things = [32, 'raindrops on roses', help]\n",
    "# (Yes, Python's help function is *definitely* one of my favourite things)"
   ]
  },
  {
   "cell_type": "markdown",
   "metadata": {
    "papermill": {
     "duration": 0.043259,
     "end_time": "2021-06-04T13:07:00.869356",
     "exception": false,
     "start_time": "2021-06-04T13:07:00.826097",
     "status": "completed"
    },
    "tags": []
   },
   "source": [
    "## Indexing\n",
    "\n",
    "You can access individual list elements with square brackets.\n",
    "\n",
    "Which planet is closest to the sun? Python uses *zero-based* indexing, so the first element has index 0."
   ]
  },
  {
   "cell_type": "code",
   "execution_count": null,
   "metadata": {
    "execution": {
     "iopub.execute_input": "2021-06-04T13:07:00.962971Z",
     "iopub.status.busy": "2021-06-04T13:07:00.961896Z",
     "iopub.status.idle": "2021-06-04T13:07:00.967026Z",
     "shell.execute_reply": "2021-06-04T13:07:00.966487Z"
    },
    "papermill": {
     "duration": 0.05485,
     "end_time": "2021-06-04T13:07:00.967166",
     "exception": false,
     "start_time": "2021-06-04T13:07:00.912316",
     "status": "completed"
    },
    "tags": []
   },
   "outputs": [],
   "source": [
    "planets[0]"
   ]
  },
  {
   "cell_type": "markdown",
   "metadata": {
    "papermill": {
     "duration": 0.043473,
     "end_time": "2021-06-04T13:07:01.054752",
     "exception": false,
     "start_time": "2021-06-04T13:07:01.011279",
     "status": "completed"
    },
    "tags": []
   },
   "source": [
    "What's the next closest planet?"
   ]
  },
  {
   "cell_type": "code",
   "execution_count": null,
   "metadata": {
    "execution": {
     "iopub.execute_input": "2021-06-04T13:07:01.149179Z",
     "iopub.status.busy": "2021-06-04T13:07:01.148503Z",
     "iopub.status.idle": "2021-06-04T13:07:01.152289Z",
     "shell.execute_reply": "2021-06-04T13:07:01.151683Z"
    },
    "papermill": {
     "duration": 0.053089,
     "end_time": "2021-06-04T13:07:01.152435",
     "exception": false,
     "start_time": "2021-06-04T13:07:01.099346",
     "status": "completed"
    },
    "tags": []
   },
   "outputs": [],
   "source": [
    "planets[1]"
   ]
  },
  {
   "cell_type": "markdown",
   "metadata": {
    "papermill": {
     "duration": 0.043675,
     "end_time": "2021-06-04T13:07:01.240267",
     "exception": false,
     "start_time": "2021-06-04T13:07:01.196592",
     "status": "completed"
    },
    "tags": []
   },
   "source": [
    "Which planet is *furthest* from the sun?\n",
    "\n",
    "Elements at the end of the list can be accessed with negative numbers, starting from -1:"
   ]
  },
  {
   "cell_type": "code",
   "execution_count": null,
   "metadata": {
    "execution": {
     "iopub.execute_input": "2021-06-04T13:07:01.334890Z",
     "iopub.status.busy": "2021-06-04T13:07:01.333716Z",
     "iopub.status.idle": "2021-06-04T13:07:01.339169Z",
     "shell.execute_reply": "2021-06-04T13:07:01.338499Z"
    },
    "papermill": {
     "duration": 0.05512,
     "end_time": "2021-06-04T13:07:01.339314",
     "exception": false,
     "start_time": "2021-06-04T13:07:01.284194",
     "status": "completed"
    },
    "tags": []
   },
   "outputs": [],
   "source": [
    "planets[-1]"
   ]
  },
  {
   "cell_type": "code",
   "execution_count": null,
   "metadata": {
    "execution": {
     "iopub.execute_input": "2021-06-04T13:07:01.434570Z",
     "iopub.status.busy": "2021-06-04T13:07:01.433662Z",
     "iopub.status.idle": "2021-06-04T13:07:01.438209Z",
     "shell.execute_reply": "2021-06-04T13:07:01.437655Z"
    },
    "papermill": {
     "duration": 0.05399,
     "end_time": "2021-06-04T13:07:01.438343",
     "exception": false,
     "start_time": "2021-06-04T13:07:01.384353",
     "status": "completed"
    },
    "tags": []
   },
   "outputs": [],
   "source": [
    "planets[-2]"
   ]
  },
  {
   "cell_type": "markdown",
   "metadata": {
    "papermill": {
     "duration": 0.044991,
     "end_time": "2021-06-04T13:07:01.528081",
     "exception": false,
     "start_time": "2021-06-04T13:07:01.483090",
     "status": "completed"
    },
    "tags": []
   },
   "source": [
    "## Slicing\n",
    "\n",
    "What are the first three planets? We can answer this question using *slicing*:"
   ]
  },
  {
   "cell_type": "code",
   "execution_count": null,
   "metadata": {
    "execution": {
     "iopub.execute_input": "2021-06-04T13:07:01.626946Z",
     "iopub.status.busy": "2021-06-04T13:07:01.626100Z",
     "iopub.status.idle": "2021-06-04T13:07:01.630141Z",
     "shell.execute_reply": "2021-06-04T13:07:01.629576Z"
    },
    "papermill": {
     "duration": 0.056699,
     "end_time": "2021-06-04T13:07:01.630296",
     "exception": false,
     "start_time": "2021-06-04T13:07:01.573597",
     "status": "completed"
    },
    "tags": []
   },
   "outputs": [],
   "source": [
    "planets[0:3]"
   ]
  },
  {
   "cell_type": "markdown",
   "metadata": {
    "papermill": {
     "duration": 0.045321,
     "end_time": "2021-06-04T13:07:01.721450",
     "exception": false,
     "start_time": "2021-06-04T13:07:01.676129",
     "status": "completed"
    },
    "tags": []
   },
   "source": [
    "`planets[0:3]` is our way of asking for the elements of `planets` starting from index 0 and continuing up to *but not including* index 3.\n",
    "\n",
    "The starting and ending indices are both optional. If I leave out the start index, it's assumed to be 0. So I could rewrite the expression above as:"
   ]
  },
  {
   "cell_type": "code",
   "execution_count": null,
   "metadata": {
    "execution": {
     "iopub.execute_input": "2021-06-04T13:07:01.821656Z",
     "iopub.status.busy": "2021-06-04T13:07:01.820399Z",
     "iopub.status.idle": "2021-06-04T13:07:01.824965Z",
     "shell.execute_reply": "2021-06-04T13:07:01.824281Z"
    },
    "papermill": {
     "duration": 0.057628,
     "end_time": "2021-06-04T13:07:01.825142",
     "exception": false,
     "start_time": "2021-06-04T13:07:01.767514",
     "status": "completed"
    },
    "tags": []
   },
   "outputs": [],
   "source": [
    "planets[:3]"
   ]
  },
  {
   "cell_type": "markdown",
   "metadata": {
    "papermill": {
     "duration": 0.046251,
     "end_time": "2021-06-04T13:07:01.918000",
     "exception": false,
     "start_time": "2021-06-04T13:07:01.871749",
     "status": "completed"
    },
    "tags": []
   },
   "source": [
    "If I leave out the end index, it's assumed to be the length of the list."
   ]
  },
  {
   "cell_type": "code",
   "execution_count": null,
   "metadata": {
    "execution": {
     "iopub.execute_input": "2021-06-04T13:07:02.017345Z",
     "iopub.status.busy": "2021-06-04T13:07:02.016678Z",
     "iopub.status.idle": "2021-06-04T13:07:02.020474Z",
     "shell.execute_reply": "2021-06-04T13:07:02.019882Z"
    },
    "papermill": {
     "duration": 0.055899,
     "end_time": "2021-06-04T13:07:02.020646",
     "exception": false,
     "start_time": "2021-06-04T13:07:01.964747",
     "status": "completed"
    },
    "tags": []
   },
   "outputs": [],
   "source": [
    "planets[3:]"
   ]
  },
  {
   "cell_type": "markdown",
   "metadata": {
    "papermill": {
     "duration": 0.047601,
     "end_time": "2021-06-04T13:07:02.114850",
     "exception": false,
     "start_time": "2021-06-04T13:07:02.067249",
     "status": "completed"
    },
    "tags": []
   },
   "source": [
    "i.e. the expression above means \"give me all the planets from index 3 onward\".\n",
    "\n",
    "We can also use negative indices when slicing:"
   ]
  },
  {
   "cell_type": "code",
   "execution_count": null,
   "metadata": {
    "execution": {
     "iopub.execute_input": "2021-06-04T13:07:02.215447Z",
     "iopub.status.busy": "2021-06-04T13:07:02.214749Z",
     "iopub.status.idle": "2021-06-04T13:07:02.217951Z",
     "shell.execute_reply": "2021-06-04T13:07:02.218464Z"
    },
    "papermill": {
     "duration": 0.055957,
     "end_time": "2021-06-04T13:07:02.218687",
     "exception": false,
     "start_time": "2021-06-04T13:07:02.162730",
     "status": "completed"
    },
    "tags": []
   },
   "outputs": [],
   "source": [
    "# All the planets except the first and last\n",
    "planets[1:-1]"
   ]
  },
  {
   "cell_type": "markdown",
   "metadata": {
    "papermill": {
     "duration": 0.047268,
     "end_time": "2021-06-04T13:07:02.416595",
     "exception": false,
     "start_time": "2021-06-04T13:07:02.369327",
     "status": "completed"
    },
    "tags": []
   },
   "source": [
    "## Changing lists\n",
    "\n",
    "Lists are \"mutable\", meaning they can be modified \"in place\".\n",
    "\n",
    "One way to modify a list is to assign to an index or slice expression.\n",
    "\n",
    "For example, let's say we want to rename Mars:"
   ]
  },
  {
   "cell_type": "code",
   "execution_count": null,
   "metadata": {
    "execution": {
     "iopub.execute_input": "2021-06-04T13:07:02.515793Z",
     "iopub.status.busy": "2021-06-04T13:07:02.515029Z",
     "iopub.status.idle": "2021-06-04T13:07:02.520110Z",
     "shell.execute_reply": "2021-06-04T13:07:02.520674Z"
    },
    "papermill": {
     "duration": 0.05646,
     "end_time": "2021-06-04T13:07:02.520869",
     "exception": false,
     "start_time": "2021-06-04T13:07:02.464409",
     "status": "completed"
    },
    "tags": []
   },
   "outputs": [],
   "source": [
    "planets[3] = 'Malacandra'\n",
    "planets"
   ]
  },
  {
   "cell_type": "markdown",
   "metadata": {
    "papermill": {
     "duration": 0.061848,
     "end_time": "2021-06-04T13:07:02.840969",
     "exception": false,
     "start_time": "2021-06-04T13:07:02.779121",
     "status": "completed"
    },
    "tags": []
   },
   "source": [
    "## List functions\n",
    "\n",
    "Python has several useful functions for working with lists.\n",
    "\n",
    "`len` gives the length of a list:"
   ]
  },
  {
   "cell_type": "code",
   "execution_count": null,
   "metadata": {
    "execution": {
     "iopub.execute_input": "2021-06-04T13:07:02.948478Z",
     "iopub.status.busy": "2021-06-04T13:07:02.947559Z",
     "iopub.status.idle": "2021-06-04T13:07:02.952291Z",
     "shell.execute_reply": "2021-06-04T13:07:02.951686Z"
    },
    "papermill": {
     "duration": 0.058666,
     "end_time": "2021-06-04T13:07:02.952427",
     "exception": false,
     "start_time": "2021-06-04T13:07:02.893761",
     "status": "completed"
    },
    "tags": []
   },
   "outputs": [],
   "source": [
    "# How many planets are there?\n",
    "len(planets)"
   ]
  },
  {
   "cell_type": "markdown",
   "metadata": {
    "papermill": {
     "duration": 0.048299,
     "end_time": "2021-06-04T13:07:03.049308",
     "exception": false,
     "start_time": "2021-06-04T13:07:03.001009",
     "status": "completed"
    },
    "tags": []
   },
   "source": [
    "`sorted` returns a sorted version of a list:"
   ]
  },
  {
   "cell_type": "code",
   "execution_count": null,
   "metadata": {
    "execution": {
     "iopub.execute_input": "2021-06-04T13:07:03.152148Z",
     "iopub.status.busy": "2021-06-04T13:07:03.151179Z",
     "iopub.status.idle": "2021-06-04T13:07:03.157640Z",
     "shell.execute_reply": "2021-06-04T13:07:03.157128Z"
    },
    "papermill": {
     "duration": 0.058359,
     "end_time": "2021-06-04T13:07:03.157785",
     "exception": false,
     "start_time": "2021-06-04T13:07:03.099426",
     "status": "completed"
    },
    "tags": []
   },
   "outputs": [],
   "source": [
    "# The planets sorted in alphabetical order\n",
    "sorted(planets)"
   ]
  },
  {
   "cell_type": "markdown",
   "metadata": {
    "papermill": {
     "duration": 0.048785,
     "end_time": "2021-06-04T13:07:03.255337",
     "exception": false,
     "start_time": "2021-06-04T13:07:03.206552",
     "status": "completed"
    },
    "tags": []
   },
   "source": [
    "`sum` does what you might expect:"
   ]
  },
  {
   "cell_type": "code",
   "execution_count": null,
   "metadata": {
    "execution": {
     "iopub.execute_input": "2021-06-04T13:07:03.358917Z",
     "iopub.status.busy": "2021-06-04T13:07:03.357928Z",
     "iopub.status.idle": "2021-06-04T13:07:03.362039Z",
     "shell.execute_reply": "2021-06-04T13:07:03.361501Z"
    },
    "papermill": {
     "duration": 0.057868,
     "end_time": "2021-06-04T13:07:03.362178",
     "exception": false,
     "start_time": "2021-06-04T13:07:03.304310",
     "status": "completed"
    },
    "tags": []
   },
   "outputs": [],
   "source": [
    "primes = [2, 3, 5, 7]\n",
    "sum(primes)"
   ]
  },
  {
   "cell_type": "markdown",
   "metadata": {
    "papermill": {
     "duration": 0.048849,
     "end_time": "2021-06-04T13:07:03.460046",
     "exception": false,
     "start_time": "2021-06-04T13:07:03.411197",
     "status": "completed"
    },
    "tags": []
   },
   "source": [
    "We've previously used the `min` and `max` to get the minimum or maximum of several arguments. But we can also pass in a single list argument."
   ]
  },
  {
   "cell_type": "code",
   "execution_count": null,
   "metadata": {
    "execution": {
     "iopub.execute_input": "2021-06-04T13:07:03.564084Z",
     "iopub.status.busy": "2021-06-04T13:07:03.563080Z",
     "iopub.status.idle": "2021-06-04T13:07:03.567282Z",
     "shell.execute_reply": "2021-06-04T13:07:03.566775Z"
    },
    "papermill": {
     "duration": 0.057776,
     "end_time": "2021-06-04T13:07:03.567430",
     "exception": false,
     "start_time": "2021-06-04T13:07:03.509654",
     "status": "completed"
    },
    "tags": []
   },
   "outputs": [],
   "source": [
    "max(primes)"
   ]
  },
  {
   "cell_type": "markdown",
   "metadata": {
    "papermill": {
     "duration": 0.051545,
     "end_time": "2021-06-04T13:07:04.618497",
     "exception": false,
     "start_time": "2021-06-04T13:07:04.566952",
     "status": "completed"
    },
    "tags": []
   },
   "source": [
    "## List methods"
   ]
  },
  {
   "cell_type": "markdown",
   "metadata": {
    "papermill": {
     "duration": 0.050987,
     "end_time": "2021-06-04T13:07:04.721457",
     "exception": false,
     "start_time": "2021-06-04T13:07:04.670470",
     "status": "completed"
    },
    "tags": []
   },
   "source": [
    "`list.append` modifies a list by adding an item to the end:"
   ]
  },
  {
   "cell_type": "code",
   "execution_count": null,
   "metadata": {
    "execution": {
     "iopub.execute_input": "2021-06-04T13:07:04.829692Z",
     "iopub.status.busy": "2021-06-04T13:07:04.829038Z",
     "iopub.status.idle": "2021-06-04T13:07:04.832315Z",
     "shell.execute_reply": "2021-06-04T13:07:04.832842Z"
    },
    "papermill": {
     "duration": 0.060027,
     "end_time": "2021-06-04T13:07:04.833031",
     "exception": false,
     "start_time": "2021-06-04T13:07:04.773004",
     "status": "completed"
    },
    "tags": []
   },
   "outputs": [],
   "source": [
    "# Pluto is a planet darn it!\n",
    "planets.append('Pluto')"
   ]
  },
  {
   "cell_type": "code",
   "execution_count": null,
   "metadata": {
    "execution": {
     "iopub.execute_input": "2021-06-04T13:07:05.263617Z",
     "iopub.status.busy": "2021-06-04T13:07:05.262671Z",
     "iopub.status.idle": "2021-06-04T13:07:05.266491Z",
     "shell.execute_reply": "2021-06-04T13:07:05.266962Z"
    },
    "papermill": {
     "duration": 0.061065,
     "end_time": "2021-06-04T13:07:05.267134",
     "exception": false,
     "start_time": "2021-06-04T13:07:05.206069",
     "status": "completed"
    },
    "tags": []
   },
   "outputs": [],
   "source": [
    "planets"
   ]
  },
  {
   "cell_type": "markdown",
   "metadata": {
    "papermill": {
     "duration": 0.05225,
     "end_time": "2021-06-04T13:07:05.371948",
     "exception": false,
     "start_time": "2021-06-04T13:07:05.319698",
     "status": "completed"
    },
    "tags": []
   },
   "source": [
    "`list.pop` removes and returns the last element of a list:"
   ]
  },
  {
   "cell_type": "code",
   "execution_count": null,
   "metadata": {
    "execution": {
     "iopub.execute_input": "2021-06-04T13:07:05.482203Z",
     "iopub.status.busy": "2021-06-04T13:07:05.481283Z",
     "iopub.status.idle": "2021-06-04T13:07:05.485613Z",
     "shell.execute_reply": "2021-06-04T13:07:05.486062Z"
    },
    "papermill": {
     "duration": 0.061849,
     "end_time": "2021-06-04T13:07:05.486234",
     "exception": false,
     "start_time": "2021-06-04T13:07:05.424385",
     "status": "completed"
    },
    "tags": []
   },
   "outputs": [],
   "source": [
    "planets.pop()"
   ]
  },
  {
   "cell_type": "code",
   "execution_count": null,
   "metadata": {
    "execution": {
     "iopub.execute_input": "2021-06-04T13:07:05.597234Z",
     "iopub.status.busy": "2021-06-04T13:07:05.596435Z",
     "iopub.status.idle": "2021-06-04T13:07:05.600322Z",
     "shell.execute_reply": "2021-06-04T13:07:05.599717Z"
    },
    "papermill": {
     "duration": 0.061528,
     "end_time": "2021-06-04T13:07:05.600457",
     "exception": false,
     "start_time": "2021-06-04T13:07:05.538929",
     "status": "completed"
    },
    "tags": []
   },
   "outputs": [],
   "source": [
    "planets"
   ]
  },
  {
   "cell_type": "code",
   "execution_count": null,
   "metadata": {
    "execution": {
     "iopub.execute_input": "2021-06-04T13:07:06.314760Z",
     "iopub.status.busy": "2021-06-04T13:07:06.314093Z",
     "iopub.status.idle": "2021-06-04T13:07:06.320072Z",
     "shell.execute_reply": "2021-06-04T13:07:06.319552Z"
    },
    "papermill": {
     "duration": 0.063095,
     "end_time": "2021-06-04T13:07:06.320212",
     "exception": false,
     "start_time": "2021-06-04T13:07:06.257117",
     "status": "completed"
    },
    "tags": []
   },
   "outputs": [],
   "source": [
    "# Is Earth a planet?\n",
    "\"Earth\" in planets"
   ]
  },
  {
   "cell_type": "code",
   "execution_count": null,
   "metadata": {
    "execution": {
     "iopub.execute_input": "2021-06-04T13:07:06.435958Z",
     "iopub.status.busy": "2021-06-04T13:07:06.435230Z",
     "iopub.status.idle": "2021-06-04T13:07:06.438386Z",
     "shell.execute_reply": "2021-06-04T13:07:06.438966Z"
    },
    "papermill": {
     "duration": 0.063777,
     "end_time": "2021-06-04T13:07:06.439142",
     "exception": false,
     "start_time": "2021-06-04T13:07:06.375365",
     "status": "completed"
    },
    "tags": []
   },
   "outputs": [],
   "source": [
    "# Is Calbefraques a planet?\n",
    "\"Calbefraques\" in planets"
   ]
  },
  {
   "cell_type": "markdown",
   "metadata": {
    "papermill": {
     "duration": 0.058979,
     "end_time": "2021-06-04T13:07:08.289801",
     "exception": false,
     "start_time": "2021-06-04T13:07:08.230822",
     "status": "completed"
    },
    "tags": []
   },
   "source": [
    "# Your Turn"
   ]
  }
 ],
 "metadata": {
  "anaconda-cloud": {},
  "kernelspec": {
   "display_name": "Python 3",
   "language": "python",
   "name": "python3"
  },
  "language_info": {
   "codemirror_mode": {
    "name": "ipython",
    "version": 3
   },
   "file_extension": ".py",
   "mimetype": "text/x-python",
   "name": "python",
   "nbconvert_exporter": "python",
   "pygments_lexer": "ipython3",
   "version": "3.8.3"
  },
  "learntools_metadata": {
   "lesson_index": 3,
   "type": "tutorial"
  },
  "papermill": {
   "default_parameters": {},
   "duration": 15.412386,
   "end_time": "2021-06-04T13:07:09.077009",
   "environment_variables": {},
   "exception": null,
   "input_path": "__notebook__.ipynb",
   "output_path": "__notebook__.ipynb",
   "parameters": {},
   "start_time": "2021-06-04T13:06:53.664623",
   "version": "2.3.2"
  }
 },
 "nbformat": 4,
 "nbformat_minor": 5
}
