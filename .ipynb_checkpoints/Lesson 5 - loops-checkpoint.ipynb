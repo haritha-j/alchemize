{
 "cells": [
  {
   "cell_type": "markdown",
   "metadata": {
    "papermill": {
     "duration": 0.020212,
     "end_time": "2021-06-04T13:07:04.990938",
     "exception": false,
     "start_time": "2021-06-04T13:07:04.970726",
     "status": "completed"
    },
    "tags": []
   },
   "source": [
    "# Lesson 5 - Loops\n",
    "\n",
    "Loops are a way to repeatedly execute some code. Here's an example:"
   ]
  },
  {
   "cell_type": "code",
   "execution_count": null,
   "metadata": {
    "execution": {
     "iopub.execute_input": "2021-06-04T13:07:05.035626Z",
     "iopub.status.busy": "2021-06-04T13:07:05.033769Z",
     "iopub.status.idle": "2021-06-04T13:07:05.042384Z",
     "shell.execute_reply": "2021-06-04T13:07:05.041618Z"
    },
    "papermill": {
     "duration": 0.03233,
     "end_time": "2021-06-04T13:07:05.042553",
     "exception": false,
     "start_time": "2021-06-04T13:07:05.010223",
     "status": "completed"
    },
    "tags": []
   },
   "outputs": [],
   "source": [
    "planets = ['Mercury', 'Venus', 'Earth', 'Mars', 'Jupiter', 'Saturn', 'Uranus', 'Neptune']\n",
    "for planet in planets:\n",
    "    print(planet, end=' ') # print all on same line"
   ]
  },
  {
   "cell_type": "markdown",
   "metadata": {
    "papermill": {
     "duration": 0.019769,
     "end_time": "2021-06-04T13:07:05.082722",
     "exception": false,
     "start_time": "2021-06-04T13:07:05.062953",
     "status": "completed"
    },
    "tags": []
   },
   "source": [
    "The ``for`` loop specifies \n",
    "- the variable name to use (in this case, `planet`)\n",
    "- the set of values to loop over (in this case, `planets`)\n",
    "\n",
    "You use the word \"``in``\" to link them together.\n",
    "\n",
    "The object to the right of the \"``in``\" can be any object that supports iteration. Basically, if it can be thought of as a group of things, you can probably loop over it. In addition to lists, we can iterate over the elements of a tuple:"
   ]
  },
  {
   "cell_type": "code",
   "execution_count": null,
   "metadata": {
    "execution": {
     "iopub.execute_input": "2021-06-04T13:07:05.126161Z",
     "iopub.status.busy": "2021-06-04T13:07:05.125524Z",
     "iopub.status.idle": "2021-06-04T13:07:05.135526Z",
     "shell.execute_reply": "2021-06-04T13:07:05.134917Z"
    },
    "papermill": {
     "duration": 0.033067,
     "end_time": "2021-06-04T13:07:05.135664",
     "exception": false,
     "start_time": "2021-06-04T13:07:05.102597",
     "status": "completed"
    },
    "tags": []
   },
   "outputs": [],
   "source": [
    "multiplicands = (2, 2, 2, 3, 3, 5)\n",
    "product = 1\n",
    "for mult in multiplicands:\n",
    "    product = product * mult\n",
    "product"
   ]
  },
  {
   "cell_type": "markdown",
   "metadata": {
    "papermill": {
     "duration": 0.02135,
     "end_time": "2021-06-04T13:07:05.176223",
     "exception": false,
     "start_time": "2021-06-04T13:07:05.154873",
     "status": "completed"
    },
    "tags": []
   },
   "source": [
    "You can even loop through each character in a string:\n",
    "\n",
    "HINT: This sort of thing is going to be really useful if you need to decrypt a certain encrypted message"
   ]
  },
  {
   "cell_type": "code",
   "execution_count": null,
   "metadata": {
    "execution": {
     "iopub.execute_input": "2021-06-04T13:07:05.221900Z",
     "iopub.status.busy": "2021-06-04T13:07:05.220839Z",
     "iopub.status.idle": "2021-06-04T13:07:05.226621Z",
     "shell.execute_reply": "2021-06-04T13:07:05.225901Z"
    },
    "papermill": {
     "duration": 0.030704,
     "end_time": "2021-06-04T13:07:05.226782",
     "exception": false,
     "start_time": "2021-06-04T13:07:05.196078",
     "status": "completed"
    },
    "tags": []
   },
   "outputs": [],
   "source": [
    "s = 'steganograpHy is the practicE of conceaLing a file, message, image, or video within another fiLe, message, image, Or video.'\n",
    "msg = ''\n",
    "# print all the uppercase letters in s, one at a time\n",
    "for char in s:\n",
    "    if char.isupper():\n",
    "        print(char, end='')        "
   ]
  },
  {
   "cell_type": "markdown",
   "metadata": {
    "papermill": {
     "duration": 0.019434,
     "end_time": "2021-06-04T13:07:05.266644",
     "exception": false,
     "start_time": "2021-06-04T13:07:05.247210",
     "status": "completed"
    },
    "tags": []
   },
   "source": [
    "### range()\n",
    "\n",
    "`range()` is a function that returns a sequence of numbers. It turns out to be very useful for writing loops.\n",
    "\n",
    "For example, if we want to repeat some action 5 times:"
   ]
  },
  {
   "cell_type": "code",
   "execution_count": null,
   "metadata": {
    "execution": {
     "iopub.execute_input": "2021-06-04T13:07:05.315602Z",
     "iopub.status.busy": "2021-06-04T13:07:05.314865Z",
     "iopub.status.idle": "2021-06-04T13:07:05.319021Z",
     "shell.execute_reply": "2021-06-04T13:07:05.318246Z"
    },
    "papermill": {
     "duration": 0.031506,
     "end_time": "2021-06-04T13:07:05.319179",
     "exception": false,
     "start_time": "2021-06-04T13:07:05.287673",
     "status": "completed"
    },
    "tags": []
   },
   "outputs": [],
   "source": [
    "for i in range(5):\n",
    "    print(\"Doing important work. i =\", i)"
   ]
  },
  {
   "cell_type": "markdown",
   "metadata": {
    "papermill": {
     "duration": 0.020551,
     "end_time": "2021-06-04T13:07:05.360531",
     "exception": false,
     "start_time": "2021-06-04T13:07:05.339980",
     "status": "completed"
    },
    "tags": []
   },
   "source": [
    "## ``while`` loops\n",
    "The other type of loop in Python is a ``while`` loop, which iterates until some condition is met:"
   ]
  },
  {
   "cell_type": "code",
   "execution_count": null,
   "metadata": {
    "execution": {
     "iopub.execute_input": "2021-06-04T13:07:05.407444Z",
     "iopub.status.busy": "2021-06-04T13:07:05.406786Z",
     "iopub.status.idle": "2021-06-04T13:07:05.411665Z",
     "shell.execute_reply": "2021-06-04T13:07:05.410995Z"
    },
    "papermill": {
     "duration": 0.0302,
     "end_time": "2021-06-04T13:07:05.411822",
     "exception": false,
     "start_time": "2021-06-04T13:07:05.381622",
     "status": "completed"
    },
    "tags": []
   },
   "outputs": [],
   "source": [
    "i = 0\n",
    "while i < 10:\n",
    "    print(i, end=' ')\n",
    "    i += 1 # increase the value of i by 1"
   ]
  },
  {
   "cell_type": "markdown",
   "metadata": {
    "papermill": {
     "duration": 0.020397,
     "end_time": "2021-06-04T13:07:05.453144",
     "exception": false,
     "start_time": "2021-06-04T13:07:05.432747",
     "status": "completed"
    },
    "tags": []
   },
   "source": [
    "The argument of the ``while`` loop is evaluated as a boolean statement, and the loop is executed until the statement evaluates to False."
   ]
  },
  {
   "cell_type": "markdown",
   "metadata": {
    "papermill": {
     "duration": 0.020523,
     "end_time": "2021-06-04T13:07:05.494524",
     "exception": false,
     "start_time": "2021-06-04T13:07:05.474001",
     "status": "completed"
    },
    "tags": []
   },
   "source": [
    "## Optional - List comprehensions\n",
    "\n",
    "List comprehensions are one of Python's most beloved and unique features. The easiest way to understand them is probably to just look at a few examples:"
   ]
  },
  {
   "cell_type": "code",
   "execution_count": null,
   "metadata": {
    "execution": {
     "iopub.execute_input": "2021-06-04T13:07:05.541607Z",
     "iopub.status.busy": "2021-06-04T13:07:05.540931Z",
     "iopub.status.idle": "2021-06-04T13:07:05.545211Z",
     "shell.execute_reply": "2021-06-04T13:07:05.544644Z"
    },
    "papermill": {
     "duration": 0.030198,
     "end_time": "2021-06-04T13:07:05.545427",
     "exception": false,
     "start_time": "2021-06-04T13:07:05.515229",
     "status": "completed"
    },
    "tags": []
   },
   "outputs": [],
   "source": [
    "squares = [n**2 for n in range(10)]\n",
    "squares"
   ]
  },
  {
   "cell_type": "markdown",
   "metadata": {
    "papermill": {
     "duration": 0.021028,
     "end_time": "2021-06-04T13:07:05.587657",
     "exception": false,
     "start_time": "2021-06-04T13:07:05.566629",
     "status": "completed"
    },
    "tags": []
   },
   "source": [
    "Here's how we would do the same thing without a list comprehension:"
   ]
  },
  {
   "cell_type": "code",
   "execution_count": null,
   "metadata": {
    "execution": {
     "iopub.execute_input": "2021-06-04T13:07:05.637030Z",
     "iopub.status.busy": "2021-06-04T13:07:05.635906Z",
     "iopub.status.idle": "2021-06-04T13:07:05.640665Z",
     "shell.execute_reply": "2021-06-04T13:07:05.640021Z"
    },
    "papermill": {
     "duration": 0.031941,
     "end_time": "2021-06-04T13:07:05.640808",
     "exception": false,
     "start_time": "2021-06-04T13:07:05.608867",
     "status": "completed"
    },
    "tags": []
   },
   "outputs": [],
   "source": [
    "squares = []\n",
    "for n in range(10):\n",
    "    squares.append(n**2)\n",
    "squares"
   ]
  },
  {
   "cell_type": "markdown",
   "metadata": {
    "papermill": {
     "duration": 0.023341,
     "end_time": "2021-06-04T13:07:06.447231",
     "exception": false,
     "start_time": "2021-06-04T13:07:06.423890",
     "status": "completed"
    },
    "tags": []
   },
   "source": [
    "# Your Turn"
   ]
  }
 ],
 "metadata": {
  "anaconda-cloud": {},
  "kernelspec": {
   "display_name": "Python 3",
   "language": "python",
   "name": "python3"
  },
  "language_info": {
   "codemirror_mode": {
    "name": "ipython",
    "version": 3
   },
   "file_extension": ".py",
   "mimetype": "text/x-python",
   "name": "python",
   "nbconvert_exporter": "python",
   "pygments_lexer": "ipython3",
   "version": "3.8.3"
  },
  "learntools_metadata": {
   "lesson_index": 4,
   "type": "tutorial"
  },
  "papermill": {
   "default_parameters": {},
   "duration": 8.854203,
   "end_time": "2021-06-04T13:07:07.129378",
   "environment_variables": {},
   "exception": null,
   "input_path": "__notebook__.ipynb",
   "output_path": "__notebook__.ipynb",
   "parameters": {},
   "start_time": "2021-06-04T13:06:58.275175",
   "version": "2.3.2"
  }
 },
 "nbformat": 4,
 "nbformat_minor": 5
}
